{
 "cells": [
  {
   "cell_type": "code",
   "execution_count": null,
   "metadata": {},
   "outputs": [],
   "source": [
    "from Datos import *\n",
    "import EstrategiaParticionado\n",
    "import Clasificador\n",
    "\n",
    "dataset=Datos('tic-tac-toe.data')\n",
    "estrategia=EstrategiaParticionado.ValidacionCruzada(4)\n",
    "clasificador=Clasificador.ClasificadorNaiveBayes()\n",
    "errores=clasificador.validacion(estrategia,dataset,clasificador)"
   ]
  }
 ],
 "metadata": {
  "kernelspec": {
   "display_name": "Python 3",
   "language": "python",
   "name": "python3"
  },
  "language_info": {
   "codemirror_mode": {
    "name": "ipython",
    "version": 3
   },
   "file_extension": ".py",
   "mimetype": "text/x-python",
   "name": "python",
   "nbconvert_exporter": "python",
   "pygments_lexer": "ipython3",
   "version": "3.6.10"
  }
 },
 "nbformat": 4,
 "nbformat_minor": 4
}
