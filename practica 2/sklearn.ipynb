{
 "cells": [
  {
   "cell_type": "code",
   "execution_count": null,
   "metadata": {},
   "outputs": [],
   "source": [
    "from sklearn.neighbors import KNeighborsClassifier\n",
    "from sklearn.linear_model import LogisticRegression\n",
    "from Datos import *\n",
    "from EstrategiaParticionado import *\n",
    "import numpy as np"
   ]
  },
  {
   "cell_type": "markdown",
   "metadata": {},
   "source": [
    "separamos cada dato de su clase para crear los arrays que recibe el clasificador de sklearn"
   ]
  },
  {
   "cell_type": "code",
   "execution_count": null,
   "metadata": {},
   "outputs": [],
   "source": [
    "wdbc=Datos(\"wdbc.data\")\n",
    "diabetes=Datos(\"pima-indians-diabetes.data\")\n",
    "\n",
    "parts=ValidacionSimple(0.3,1)\n",
    "wdbcparts=parts.creaParticiones(wdbc.datos)[0]\n",
    "diabetesparts=parts.creaParticiones(diabetes.datos)[0]\n",
    "\n",
    "wdbctrain = extraeDatos(wdbcparts.indicesTrain)\n",
    "wdbctest = extraeDatos(wdbcparts.indicesTest)\n",
    "diabetestrain = extraeDatos(diabetesparts.indicesTrain)\n",
    "diabetestest = extraeDatos(diabetesparts.indicesTest)\n",
    "\n",
    "wdbcdattrain=[]\n",
    "wdbcclasstrain=[]\n",
    "wdbcdattest=[]\n",
    "wdbcclasstest=[]\n",
    "diabetesdattrain=[]\n",
    "diabetesclasstrain=[]\n",
    "diabetesdattest=[]\n",
    "diabetesclasstest=[]\n",
    "for elem in wdbctrain:\n",
    "    wdbcdattrain.append(elem[:-1])\n",
    "    wdbcclasstrain.append(elem[-1])\n",
    "for elem in wdbctest:\n",
    "    wdbcdattest.append(elem[:-1])\n",
    "    wdbcclasstest.append(elem[-1])\n",
    "for elem in diabetestrain:\n",
    "    diabetesdattrain.append(elem[:-1])\n",
    "    diabetesclasstrain.append(elem[-1])\n",
    "dor elem in diabetestest:\n",
    "    diabetesdattest.append(elem[:-1])\n",
    "    diabetesclasstest.append(elem[-1])\n",
    "#a lo mejor habria que variar las particiones durante la ejecucion, no estoy seguro, creo que no"
   ]
  },
  {
   "cell_type": "markdown",
   "metadata": {},
   "source": [
    "# K-NN\n",
    "euclidea"
   ]
  },
  {
   "cell_type": "code",
   "execution_count": null,
   "metadata": {},
   "outputs": [],
   "source": [
    "neighbors=[1,3,5,11,21]\n",
    "for k in neighbors:\n",
    "    #wdbc\n",
    "    clf = KNeighborsClassifier(n_neighbors=k,metric='euclidean')\n",
    "    clf.fit(wdbcdattrain,wdbcclasstrain)\n",
    "    print(1-clf.score(wdbcdattest,wdbcclasstest))\n",
    "    #diabetes\n",
    "    clf = KNeighborsClassifier(n_neighbors=k,metric='euclidean')\n",
    "    clf.fit(diabetesdattrain,diabetesclasstrain)\n",
    "    print(1-clf.score(diabetesdattest,diabetesclasstest))\n",
    "    print()\n",
    "print()"
   ]
  },
  {
   "cell_type": "markdown",
   "metadata": {},
   "source": [
    "manhattan"
   ]
  },
  {
   "cell_type": "code",
   "execution_count": null,
   "metadata": {},
   "outputs": [],
   "source": [
    "for k in neighbors:\n",
    "    #wdbc\n",
    "    clf = KNeighborsClassifier(n_neighbors=k,metric='manhattan')\n",
    "    clf.fit(wdbcdattrain,wdbcclasstrain)\n",
    "    print(1-clf.score(wdbcdattest,wdbcclasstest))\n",
    "    #diabetes\n",
    "    clf = KNeighborsClassifier(n_neighbors=k,metric='manhattan')\n",
    "    clf.fit(diabetesdattrain,diabetesclasstrain)\n",
    "    print(1-clf.score(diabetesdattest,diabetesclasstest))\n",
    "    print()\n",
    "print()"
   ]
  },
  {
   "cell_type": "markdown",
   "metadata": {},
   "source": [
    "mahalanobis"
   ]
  },
  {
   "cell_type": "code",
   "execution_count": null,
   "metadata": {},
   "outputs": [],
   "source": [
    "for k in neighbors:\n",
    "    #wdbc\n",
    "    clf = KNeighborsClassifier(n_neighbors=k,metric='mahalanobis',metric_params={'V':np.cov(wdbcdattrain)}) #dudo del param V\n",
    "    clf.fit(wdbcdattrain,wdbcclasstrain)\n",
    "    print(1-clf.score(wdbcdattest,wdbcclasstest))\n",
    "    #diabetes\n",
    "    clf = KNeighborsClassifier(n_neighbors=k,metric='mahalanobis',metric_params={'V':np.cov(wdbcdattrain)}) #dudo del param V\n",
    "    clf.fit(diabetesdattrain,diabetesclasstrain)\n",
    "    print(1-clf.score(diabetesdattest,diabetesclasstest))\n",
    "    print()\n",
    "print()"
   ]
  },
  {
   "cell_type": "markdown",
   "metadata": {},
   "source": [
    "# Regresion logistica"
   ]
  },
  {
   "cell_type": "code",
   "execution_count": null,
   "metadata": {},
   "outputs": [],
   "source": [
    "#wdbc\n",
    "clf = LogisticRegression()\n",
    "clf.fit(wdbcdattrain, wdbcclasstrain)\n",
    "print(1-clf.score(wdbcdattest, wdbcclasstest))\n",
    "print()\n",
    "#diabetes\n",
    "clf = LogisticRegression()\n",
    "clf.fit(diabetesdattrain, diabetesclasstrain)\n",
    "print(1-clf.score(diabetesdattest, diabetesclasstest))\n",
    "print()"
   ]
  },
  {
   "cell_type": "markdown",
   "metadata": {},
   "source": [
    "conclusiones"
   ]
  }
 ],
 "metadata": {
  "kernelspec": {
   "display_name": "Python 3",
   "language": "python",
   "name": "python3"
  },
  "language_info": {
   "codemirror_mode": {
    "name": "ipython",
    "version": 3
   },
   "file_extension": ".py",
   "mimetype": "text/x-python",
   "name": "python",
   "nbconvert_exporter": "python",
   "pygments_lexer": "ipython3",
   "version": "3.6.11"
  }
 },
 "nbformat": 4,
 "nbformat_minor": 4
}
