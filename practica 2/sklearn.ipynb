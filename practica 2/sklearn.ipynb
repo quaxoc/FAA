{
 "cells": [
  {
   "cell_type": "code",
   "execution_count": 1,
   "metadata": {},
   "outputs": [],
   "source": [
    "from sklearn.neighbors import KNeighborsClassifier\n",
    "from sklearn.linear_model import LogisticRegression\n",
    "from Datos import *\n",
    "from EstrategiaParticionado import *\n",
    "import numpy as np\n",
    "from sklearn import preprocessing"
   ]
  },
  {
   "cell_type": "markdown",
   "metadata": {},
   "source": [
    "separamos cada dato de su clase para crear los arrays que recibe el clasificador de sklearn"
   ]
  },
  {
   "cell_type": "code",
   "execution_count": 2,
   "metadata": {},
   "outputs": [],
   "source": [
    "wdbc=Datos(\"wdbc.data\")\n",
    "diabetes=Datos(\"pima-indians-diabetes.data\")\n",
    "\n",
    "parts=ValidacionSimple(0.3,1)\n",
    "wdbcparts=parts.creaParticiones(wdbc.datos)[0]\n",
    "diabetesparts=parts.creaParticiones(diabetes.datos)[0]\n",
    "\n",
    "wdbctrain = wdbc.extraeDatos(wdbcparts.indicesTrain)\n",
    "wdbctest = wdbc.extraeDatos(wdbcparts.indicesTest)\n",
    "diabetestrain = diabetes.extraeDatos(diabetesparts.indicesTrain)\n",
    "diabetestest = diabetes.extraeDatos(diabetesparts.indicesTest)\n",
    "\n",
    "wdbcdattrain=[]\n",
    "wdbcclasstrain=[]\n",
    "wdbcdattest=[]\n",
    "wdbcclasstest=[]\n",
    "diabetesdattrain=[]\n",
    "diabetesclasstrain=[]\n",
    "diabetesdattest=[]\n",
    "diabetesclasstest=[]\n",
    "for elem in wdbctrain:\n",
    "    wdbcdattrain.append(elem[:-1])\n",
    "    wdbcclasstrain.append(elem[-1])\n",
    "for elem in wdbctest:\n",
    "    wdbcdattest.append(elem[:-1])\n",
    "    wdbcclasstest.append(elem[-1])\n",
    "for elem in diabetestrain:\n",
    "    diabetesdattrain.append(elem[:-1])\n",
    "    diabetesclasstrain.append(elem[-1])\n",
    "for elem in diabetestest:\n",
    "    diabetesdattest.append(elem[:-1])\n",
    "    diabetesclasstest.append(elem[-1])\n",
    "\n",
    "normwdbctrain=preprocessing.scale(np.array(wdbcdattrain))\n",
    "normwdbctest=preprocessing.scale(np.array(wdbcdattest))\n",
    "normdiabetestrain=preprocessing.scale(np.array(diabetesdattrain))\n",
    "normdiabetestest=preprocessing.scale(np.array(diabetesdattest))"
   ]
  },
  {
   "cell_type": "markdown",
   "metadata": {},
   "source": [
    "# K-NN\n",
    "euclidea"
   ]
  },
  {
   "cell_type": "code",
   "execution_count": 3,
   "metadata": {},
   "outputs": [
    {
     "name": "stdout",
     "output_type": "stream",
     "text": [
      "k = 1\n",
      "wdbc: 0.1228070175438597\n",
      "diabetes: 0.30000000000000004\n",
      "\n",
      "k = 3\n",
      "wdbc: 0.11695906432748537\n",
      "diabetes: 0.33913043478260874\n",
      "\n",
      "k = 5\n",
      "wdbc: 0.11111111111111116\n",
      "diabetes: 0.30434782608695654\n",
      "\n",
      "k = 11\n",
      "wdbc: 0.11111111111111116\n",
      "diabetes: 0.28260869565217395\n",
      "\n",
      "k = 21\n",
      "wdbc: 0.10526315789473684\n",
      "diabetes: 0.29130434782608694\n",
      "\n",
      "\n"
     ]
    }
   ],
   "source": [
    "neighbors=[1,3,5,11,21]\n",
    "for k in neighbors:\n",
    "    print(\"k =\",k)\n",
    "    #wdbc\n",
    "    clf = KNeighborsClassifier(n_neighbors=k,metric='euclidean')\n",
    "    clf.fit(wdbcdattrain,wdbcclasstrain)\n",
    "    print(\"wdbc:\", 1-clf.score(wdbcdattest,wdbcclasstest))\n",
    "    #diabetes\n",
    "    clf = KNeighborsClassifier(n_neighbors=k,metric='euclidean')\n",
    "    clf.fit(diabetesdattrain,diabetesclasstrain)\n",
    "    print(\"diabetes:\", 1-clf.score(diabetesdattest,diabetesclasstest))\n",
    "    print()\n",
    "print()"
   ]
  },
  {
   "cell_type": "markdown",
   "metadata": {},
   "source": [
    "manhattan"
   ]
  },
  {
   "cell_type": "code",
   "execution_count": 4,
   "metadata": {},
   "outputs": [
    {
     "name": "stdout",
     "output_type": "stream",
     "text": [
      "k = 1\n",
      "wdbc: 0.08771929824561409\n",
      "diabetes: 0.31304347826086953\n",
      "\n",
      "k = 3\n",
      "wdbc: 0.09941520467836262\n",
      "diabetes: 0.33043478260869563\n",
      "\n",
      "k = 5\n",
      "wdbc: 0.0935672514619883\n",
      "diabetes: 0.27391304347826084\n",
      "\n",
      "k = 11\n",
      "wdbc: 0.09941520467836262\n",
      "diabetes: 0.26086956521739135\n",
      "\n",
      "k = 21\n",
      "wdbc: 0.09941520467836262\n",
      "diabetes: 0.26521739130434785\n",
      "\n",
      "\n"
     ]
    }
   ],
   "source": [
    "for k in neighbors:\n",
    "    print(\"k =\",k)\n",
    "    #wdbc\n",
    "    clf = KNeighborsClassifier(n_neighbors=k,metric='manhattan')\n",
    "    clf.fit(wdbcdattrain,wdbcclasstrain)\n",
    "    print(\"wdbc:\", 1-clf.score(wdbcdattest,wdbcclasstest))\n",
    "    #diabetes\n",
    "    clf = KNeighborsClassifier(n_neighbors=k,metric='manhattan')\n",
    "    clf.fit(diabetesdattrain,diabetesclasstrain)\n",
    "    print(\"diabetes:\", 1-clf.score(diabetesdattest,diabetesclasstest))\n",
    "    print()\n",
    "print()"
   ]
  },
  {
   "cell_type": "markdown",
   "metadata": {},
   "source": [
    "mahalanobis"
   ]
  },
  {
   "cell_type": "code",
   "execution_count": 5,
   "metadata": {},
   "outputs": [
    {
     "name": "stdout",
     "output_type": "stream",
     "text": [
      "k = 1\n",
      "wdbc: 0.13450292397660824\n",
      "diabetes: 0.32173913043478264\n",
      "\n",
      "k = 3\n",
      "wdbc: 0.1286549707602339\n",
      "diabetes: 0.31739130434782614\n",
      "\n",
      "k = 5\n",
      "wdbc: 0.1228070175438597\n",
      "diabetes: 0.28260869565217395\n",
      "\n",
      "k = 11\n",
      "wdbc: 0.1578947368421053\n",
      "diabetes: 0.26086956521739135\n",
      "\n",
      "k = 21\n",
      "wdbc: 0.19298245614035092\n",
      "diabetes: 0.28260869565217395\n",
      "\n",
      "\n"
     ]
    }
   ],
   "source": [
    "for k in neighbors:\n",
    "    print(\"k =\",k)\n",
    "    #wdbc\n",
    "    clf = KNeighborsClassifier(n_neighbors=k,metric='mahalanobis',metric_params={'V':np.cov(normwdbctrain.T)})\n",
    "    clf.fit(normwdbctrain,wdbcclasstrain)\n",
    "    print(\"wdbc:\", 1-clf.score(normwdbctest,wdbcclasstest))\n",
    "    #diabetes\n",
    "    clf = KNeighborsClassifier(n_neighbors=k,metric='mahalanobis',metric_params={'V':np.cov(normdiabetestrain.T)})\n",
    "    clf.fit(normdiabetestrain,diabetesclasstrain)\n",
    "    print(\"diabetes:\", 1-clf.score(normdiabetestest,diabetesclasstest))\n",
    "    print()\n",
    "print()"
   ]
  },
  {
   "cell_type": "markdown",
   "metadata": {},
   "source": [
    "# Regresion logistica"
   ]
  },
  {
   "cell_type": "code",
   "execution_count": 6,
   "metadata": {},
   "outputs": [
    {
     "name": "stdout",
     "output_type": "stream",
     "text": [
      "wdbc: 0.07602339181286555\n",
      "diabetes: 0.22608695652173916\n",
      "\n"
     ]
    }
   ],
   "source": [
    "#wdbc\n",
    "clf = LogisticRegression(max_iter=1000)\n",
    "clf.fit(normwdbctrain, wdbcclasstrain)\n",
    "print(\"wdbc:\", 1-clf.score(normwdbctest, wdbcclasstest))\n",
    "#diabetes\n",
    "clf = LogisticRegression(max_iter=1000)\n",
    "clf.fit(normdiabetestrain, diabetesclasstrain)\n",
    "print(\"diabetes:\", 1-clf.score(normdiabetestest, diabetesclasstest))\n",
    "print()"
   ]
  },
  {
   "cell_type": "markdown",
   "metadata": {},
   "source": [
    "conclusiones"
   ]
  }
 ],
 "metadata": {
  "kernelspec": {
   "display_name": "Python 3",
   "language": "python",
   "name": "python3"
  },
  "language_info": {
   "codemirror_mode": {
    "name": "ipython",
    "version": 3
   },
   "file_extension": ".py",
   "mimetype": "text/x-python",
   "name": "python",
   "nbconvert_exporter": "python",
   "pygments_lexer": "ipython3",
   "version": "3.6.11"
  }
 },
 "nbformat": 4,
 "nbformat_minor": 4
}
