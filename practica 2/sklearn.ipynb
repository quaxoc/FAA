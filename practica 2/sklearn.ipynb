{
 "cells": [
  {
   "cell_type": "code",
   "execution_count": 6,
   "metadata": {},
   "outputs": [],
   "source": [
    "from sklearn.neighbors import KNeighborsClassifier\n",
    "from sklearn.linear_model import LogisticRegression\n",
    "from Datos import *\n",
    "from EstrategiaParticionado import *\n",
    "import numpy as np\n",
    "from sklearn import preprocessing"
   ]
  },
  {
   "cell_type": "markdown",
   "metadata": {},
   "source": [
    "separamos cada dato de su clase para crear los arrays que recibe el clasificador de sklearn"
   ]
  },
  {
   "cell_type": "code",
   "execution_count": 9,
   "metadata": {},
   "outputs": [],
   "source": [
    "wdbc=Datos(\"wdbc.data\")\n",
    "diabetes=Datos(\"pima-indians-diabetes.data\")\n",
    "\n",
    "parts=ValidacionSimple(0.3,1)\n",
    "wdbcparts=parts.creaParticiones(wdbc.datos)[0]\n",
    "diabetesparts=parts.creaParticiones(diabetes.datos)[0]\n",
    "\n",
    "wdbctrain = wdbc.extraeDatos(wdbcparts.indicesTrain)\n",
    "wdbctest = wdbc.extraeDatos(wdbcparts.indicesTest)\n",
    "diabetestrain = diabetes.extraeDatos(diabetesparts.indicesTrain)\n",
    "diabetestest = diabetes.extraeDatos(diabetesparts.indicesTest)\n",
    "\n",
    "wdbcdattrain=[]\n",
    "wdbcclasstrain=[]\n",
    "wdbcdattest=[]\n",
    "wdbcclasstest=[]\n",
    "diabetesdattrain=[]\n",
    "diabetesclasstrain=[]\n",
    "diabetesdattest=[]\n",
    "diabetesclasstest=[]\n",
    "for elem in wdbctrain:\n",
    "    wdbcdattrain.append(elem[:-1])\n",
    "    wdbcclasstrain.append(elem[-1])\n",
    "for elem in wdbctest:\n",
    "    wdbcdattest.append(elem[:-1])\n",
    "    wdbcclasstest.append(elem[-1])\n",
    "for elem in diabetestrain:\n",
    "    diabetesdattrain.append(elem[:-1])\n",
    "    diabetesclasstrain.append(elem[-1])\n",
    "for elem in diabetestest:\n",
    "    diabetesdattest.append(elem[:-1])\n",
    "    diabetesclasstest.append(elem[-1])\n",
    "\n",
    "normwdbctrain=preprocessing.scale(np.array(wdbcdattrain))\n",
    "normwdbctest=preprocessing.scale(np.array(wdbcdattest))\n",
    "normdiabetestrain=preprocessing.scale(np.array(diabetesdattrain))\n",
    "normdiabetestest=preprocessing.scale(np.array(diabetesdattest))"
   ]
  },
  {
   "cell_type": "markdown",
   "metadata": {},
   "source": [
    "# K-NN\n",
    "euclidea"
   ]
  },
  {
   "cell_type": "code",
   "execution_count": 10,
   "metadata": {},
   "outputs": [
    {
     "name": "stdout",
     "output_type": "stream",
     "text": [
      "k = 1\n",
      "wdbc: 0.07602339181286555\n",
      "diabetes: 0.3652173913043478\n",
      "\n",
      "k = 3\n",
      "wdbc: 0.07602339181286555\n",
      "diabetes: 0.30434782608695654\n",
      "\n",
      "k = 5\n",
      "wdbc: 0.06432748538011701\n",
      "diabetes: 0.29565217391304344\n",
      "\n",
      "k = 11\n",
      "wdbc: 0.05847953216374269\n",
      "diabetes: 0.26086956521739135\n",
      "\n",
      "k = 21\n",
      "wdbc: 0.06432748538011701\n",
      "diabetes: 0.26956521739130435\n",
      "\n",
      "\n"
     ]
    }
   ],
   "source": [
    "neighbors=[1,3,5,11,21]\n",
    "for k in neighbors:\n",
    "    print(\"k =\",k)\n",
    "    #wdbc\n",
    "    clf = KNeighborsClassifier(n_neighbors=k,metric='euclidean')\n",
    "    clf.fit(wdbcdattrain,wdbcclasstrain)\n",
    "    print(\"wdbc:\", 1-clf.score(wdbcdattest,wdbcclasstest))\n",
    "    #diabetes\n",
    "    clf = KNeighborsClassifier(n_neighbors=k,metric='euclidean')\n",
    "    clf.fit(diabetesdattrain,diabetesclasstrain)\n",
    "    print(\"diabetes:\", 1-clf.score(diabetesdattest,diabetesclasstest))\n",
    "    print()\n",
    "print()"
   ]
  },
  {
   "cell_type": "markdown",
   "metadata": {},
   "source": [
    "manhattan"
   ]
  },
  {
   "cell_type": "code",
   "execution_count": 11,
   "metadata": {},
   "outputs": [
    {
     "name": "stdout",
     "output_type": "stream",
     "text": [
      "k = 1\n",
      "wdbc: 0.07602339181286555\n",
      "diabetes: 0.33043478260869563\n",
      "\n",
      "k = 3\n",
      "wdbc: 0.08771929824561409\n",
      "diabetes: 0.31739130434782614\n",
      "\n",
      "k = 5\n",
      "wdbc: 0.05847953216374269\n",
      "diabetes: 0.24782608695652175\n",
      "\n",
      "k = 11\n",
      "wdbc: 0.05847953216374269\n",
      "diabetes: 0.25217391304347825\n",
      "\n",
      "k = 21\n",
      "wdbc: 0.07017543859649122\n",
      "diabetes: 0.26956521739130435\n",
      "\n",
      "\n"
     ]
    }
   ],
   "source": [
    "for k in neighbors:\n",
    "    print(\"k =\",k)\n",
    "    #wdbc\n",
    "    clf = KNeighborsClassifier(n_neighbors=k,metric='manhattan')\n",
    "    clf.fit(wdbcdattrain,wdbcclasstrain)\n",
    "    print(\"wdbc:\", 1-clf.score(wdbcdattest,wdbcclasstest))\n",
    "    #diabetes\n",
    "    clf = KNeighborsClassifier(n_neighbors=k,metric='manhattan')\n",
    "    clf.fit(diabetesdattrain,diabetesclasstrain)\n",
    "    print(\"diabetes:\", 1-clf.score(diabetesdattest,diabetesclasstest))\n",
    "    print()\n",
    "print()"
   ]
  },
  {
   "cell_type": "markdown",
   "metadata": {},
   "source": [
    "mahalanobis"
   ]
  },
  {
   "cell_type": "code",
   "execution_count": 12,
   "metadata": {},
   "outputs": [
    {
     "name": "stdout",
     "output_type": "stream",
     "text": [
      "k = 1\n",
      "wdbc: 0.21052631578947367\n",
      "diabetes: 0.29130434782608694\n",
      "\n",
      "k = 3\n",
      "wdbc: 0.216374269005848\n",
      "diabetes: 0.23913043478260865\n",
      "\n",
      "k = 5\n",
      "wdbc: 0.23976608187134507\n",
      "diabetes: 0.29130434782608694\n",
      "\n",
      "k = 11\n",
      "wdbc: 0.23976608187134507\n",
      "diabetes: 0.25652173913043474\n",
      "\n",
      "k = 21\n",
      "wdbc: 0.26900584795321636\n",
      "diabetes: 0.26956521739130435\n",
      "\n",
      "\n"
     ]
    }
   ],
   "source": [
    "for k in neighbors:\n",
    "    print(\"k =\",k)\n",
    "    #wdbc\n",
    "    clf = KNeighborsClassifier(n_neighbors=k,metric='mahalanobis',metric_params={'V':np.cov(normwdbctrain.T)})\n",
    "    clf.fit(normwdbctrain,wdbcclasstrain)\n",
    "    print(\"wdbc:\", 1-clf.score(normwdbctest,wdbcclasstest))\n",
    "    #diabetes\n",
    "    clf = KNeighborsClassifier(n_neighbors=k,metric='mahalanobis',metric_params={'V':np.cov(normdiabetestrain.T)})\n",
    "    clf.fit(normdiabetestrain,diabetesclasstrain)\n",
    "    print(\"diabetes:\", 1-clf.score(normdiabetestest,diabetesclasstest))\n",
    "    print()\n",
    "print()"
   ]
  },
  {
   "cell_type": "markdown",
   "metadata": {},
   "source": [
    "# Regresion logistica"
   ]
  },
  {
   "cell_type": "code",
   "execution_count": 13,
   "metadata": {},
   "outputs": [
    {
     "name": "stdout",
     "output_type": "stream",
     "text": [
      "wdbc: 0.05847953216374269\n",
      "diabetes: 0.24347826086956526\n",
      "\n"
     ]
    },
    {
     "name": "stderr",
     "output_type": "stream",
     "text": [
      "C:\\Users\\quaxoc\\Anaconda3\\lib\\site-packages\\sklearn\\linear_model\\logistic.py:432: FutureWarning: Default solver will be changed to 'lbfgs' in 0.22. Specify a solver to silence this warning.\n",
      "  FutureWarning)\n",
      "C:\\Users\\quaxoc\\Anaconda3\\lib\\site-packages\\sklearn\\linear_model\\logistic.py:432: FutureWarning: Default solver will be changed to 'lbfgs' in 0.22. Specify a solver to silence this warning.\n",
      "  FutureWarning)\n"
     ]
    }
   ],
   "source": [
    "#wdbc\n",
    "clf = LogisticRegression(max_iter=1000)\n",
    "clf.fit(normwdbctrain, wdbcclasstrain)\n",
    "print(\"wdbc:\", 1-clf.score(normwdbctest, wdbcclasstest))\n",
    "#diabetes\n",
    "clf = LogisticRegression(max_iter=1000)\n",
    "clf.fit(normdiabetestrain, diabetesclasstrain)\n",
    "print(\"diabetes:\", 1-clf.score(normdiabetestest, diabetesclasstest))\n",
    "print()"
   ]
  },
  {
   "cell_type": "markdown",
   "metadata": {},
   "source": [
    "conclusiones"
   ]
  }
 ],
 "metadata": {
  "kernelspec": {
   "display_name": "Python 3",
   "language": "python",
   "name": "python3"
  },
  "language_info": {
   "codemirror_mode": {
    "name": "ipython",
    "version": 3
   },
   "file_extension": ".py",
   "mimetype": "text/x-python",
   "name": "python",
   "nbconvert_exporter": "python",
   "pygments_lexer": "ipython3",
   "version": "3.7.4"
  }
 },
 "nbformat": 4,
 "nbformat_minor": 4
}
