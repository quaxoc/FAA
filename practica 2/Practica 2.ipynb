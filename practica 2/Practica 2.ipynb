{
 "cells": [
  {
   "cell_type": "markdown",
   "metadata": {},
   "source": [
    "# Práctica 2.\n",
    "\n",
    "## Semana 1. Vecinos próximos"
   ]
  },
  {
   "cell_type": "markdown",
   "metadata": {},
   "source": [
    "Read data"
   ]
  },
  {
   "cell_type": "code",
   "execution_count": 266,
   "metadata": {},
   "outputs": [
    {
     "name": "stdout",
     "output_type": "stream",
     "text": [
      "['Pregs', 'Plas', 'Pres', 'Skin', 'Test', 'Mass', 'Pedi', 'Age', 'Class'] ['Atributo1', 'Atributo2', 'Atributo3', 'Atributo4', 'Atributo5', 'Atributo6', 'Atributo7', 'Atributo8', 'Atributo9', 'Atributo10', 'Atributo11', 'Atributo12', 'Atributo13', 'Atributo14', 'Atributo15', 'Atributo16', 'Atributo17', 'Atributo18', 'Atributo19', 'Atributo20', 'Atributo21', 'Atributo22', 'Atributo23', 'Atributo24', 'Atributo25', 'Atributo26', 'Atributo27', 'Atributo28', 'Atributo29', 'Atributo30', 'Class']\n"
     ]
    }
   ],
   "source": [
    "import numpy as np\n",
    "import pandas as pd\n",
    "\n",
    "\n",
    "filename=\"ConjuntosDatosP2/pima-indians-diabetes.data\"\n",
    "filename2=\"ConjuntosDatosP2/wdbc.data\"\n",
    "data = pd.read_csv(filename)\n",
    "data1=pd.read_csv(filename2)\n",
    "\n",
    "column_names=list(data.columns)\n",
    "column_names1=list(data1.columns)\n",
    "print(column_names, column_names1)\n",
    "class_name=\"Class\"\n",
    "\n",
    "class_list=data[class_name].values\n",
    "class_list1=data1[class_name].values"
   ]
  },
  {
   "cell_type": "markdown",
   "metadata": {},
   "source": [
    "Normalize data: calcularMediasDesv(self,datos,nominalAtributos); normalizarDatos(self,datos,nominalAtributos):"
   ]
  },
  {
   "cell_type": "code",
   "execution_count": 74,
   "metadata": {},
   "outputs": [],
   "source": [
    "#Read and normalize data\n",
    "\n",
    "norm_data=[]\n",
    "mean_array=[]\n",
    "std_array=[]\n",
    "for col in column_names:\n",
    "    if col!=class_name:\n",
    "        atr=data[col].values\n",
    "        mean=np.mean(atr)\n",
    "        std=np.std(atr)\n",
    "        atr=(atr-mean)/std\n",
    "        mean_array.append(mean)\n",
    "        std_array.append(std)\n",
    "        norm_data.append(atr)\n",
    "print(norm_data)"
   ]
  },
  {
   "cell_type": "markdown",
   "metadata": {},
   "source": [
    "Elejimos una linea de datos aleatoria para clasificar"
   ]
  },
  {
   "cell_type": "code",
   "execution_count": 55,
   "metadata": {},
   "outputs": [
    {
     "name": "stdout",
     "output_type": "stream",
     "text": [
      "Pregs      8.000\n",
      "Plas     176.000\n",
      "Pres      90.000\n",
      "Skin      34.000\n",
      "Test     300.000\n",
      "Mass      33.700\n",
      "Pedi       0.467\n",
      "Age       58.000\n",
      "Class      1.000\n",
      "Name: 53, dtype: float64\n"
     ]
    }
   ],
   "source": [
    "test_line_id=np.random.randint(0,data.shape[0])\n",
    "test_line=data.iloc[test_line_id]\n",
    "print(test_line)"
   ]
  },
  {
   "cell_type": "markdown",
   "metadata": {},
   "source": [
    "Elejimos los atributos de interes y normalizamos los datos que queremos clasificar"
   ]
  },
  {
   "cell_type": "code",
   "execution_count": 67,
   "metadata": {},
   "outputs": [
    {
     "name": "stdout",
     "output_type": "stream",
     "text": [
      "[8.0, 176.0, 90.0]\n",
      "[1.2338801856003137, 1.724643863785235, 1.0802002507534205]\n"
     ]
    }
   ],
   "source": [
    "def normalize_point(atributes, col_ids):\n",
    "    norm_atr=[];\n",
    "    for i in range(len(atributes)):\n",
    "        norm_atr.append((atributes[i]-mean_array[col_ids[i]])/std_array[col_ids[i]])\n",
    "    return(norm_atr)\n",
    "\n",
    "test_atr_ids=[\"Pregs\", \"Plas\", \"Pres\"]\n",
    "#Los ids de columnas se utilizan para acceder los arrays de medias, std y los datos normalizados\n",
    "column_ids=[]\n",
    "test_atr=[]\n",
    "for col in test_atr_ids:\n",
    "    column_ids.append(data.columns.get_loc(col))\n",
    "    test_atr.append(test_line[col])\n",
    "    \n",
    "print(test_atr)\n",
    "\n",
    "norm_point=normalize_point(test_atr, column_ids)\n",
    "\n",
    "print(norm_point)"
   ]
  },
  {
   "cell_type": "markdown",
   "metadata": {},
   "source": [
    "Calculamos distancia Euclidea y Manhatten"
   ]
  },
  {
   "cell_type": "code",
   "execution_count": 95,
   "metadata": {},
   "outputs": [],
   "source": [
    "def euclidian_distance(point_atr, col_ids, normalized_data):\n",
    "    i=0\n",
    "    square_dist=0\n",
    "    for col in col_ids:\n",
    "        square_dist=square_dist+(normalized_data[col]-point_atr[i])**2\n",
    "        i+=1\n",
    "    square_dist=square_dist**0.5\n",
    "    return(square_dist)\n",
    "\n",
    "def manhatten_distance(point_atr, col_ids, normalized_data):\n",
    "    i=0\n",
    "    dist=0\n",
    "    for col in col_ids:\n",
    "        dist=dist+(normalized_data[col]-point_atr[i])\n",
    "        i+=1\n",
    "    return(abs(dist))\n",
    "\n",
    "def mahalanobis_distance(point_atr, col_ids, normalized_data):\n",
    "    \n",
    "    \n",
    "dist_euc=euclidian_distance(norm_point, column_ids, norm_data)\n",
    "dist_man=manhatten_distance(norm_point, column_ids, norm_data)\n"
   ]
  },
  {
   "cell_type": "markdown",
   "metadata": {},
   "source": [
    "Funcion de k-vecinos proximos"
   ]
  },
  {
   "cell_type": "code",
   "execution_count": 101,
   "metadata": {},
   "outputs": [
    {
     "name": "stdout",
     "output_type": "stream",
     "text": [
      "1\n",
      "1\n"
     ]
    }
   ],
   "source": [
    "from statistics import mode \n",
    "def kneigbour_class(dist, k, class_list):\n",
    "    idx = np.argpartition(dist, k)\n",
    "    idx=idx[0:k]\n",
    "    return mode(class_list[idx])\n",
    "\n",
    "classified=kneigbour_class(dist_euc, 7, class_list)\n",
    "print(classified)\n",
    "print(kneigbour_class(dist_man, 7, class_list))\n",
    "\n"
   ]
  },
  {
   "cell_type": "markdown",
   "metadata": {},
   "source": [
    "Mahalanobis distance <-hay que acabarlo"
   ]
  },
  {
   "cell_type": "code",
   "execution_count": 144,
   "metadata": {},
   "outputs": [
    {
     "name": "stdout",
     "output_type": "stream",
     "text": [
      "[[-0.84488505 -1.12339636 -0.16054575]\n",
      " [ 1.23388019  1.72464386  1.08020025]]\n",
      "[[ 0.24549502 -0.1437259 ]\n",
      " [-0.1437259   0.11329568]]\n"
     ]
    },
    {
     "ename": "ValueError",
     "evalue": "shapes (3,1) and (2,2) not aligned: 1 (dim 1) != 2 (dim 0)",
     "output_type": "error",
     "traceback": [
      "\u001b[1;31m---------------------------------------------------------------------------\u001b[0m",
      "\u001b[1;31mValueError\u001b[0m                                Traceback (most recent call last)",
      "\u001b[1;32m<ipython-input-144-83998ab12d45>\u001b[0m in \u001b[0;36m<module>\u001b[1;34m\u001b[0m\n\u001b[0;32m     10\u001b[0m \u001b[0mcov\u001b[0m\u001b[1;33m=\u001b[0m\u001b[0mnp\u001b[0m\u001b[1;33m.\u001b[0m\u001b[0mcov\u001b[0m\u001b[1;33m(\u001b[0m\u001b[0mX\u001b[0m\u001b[1;33m)\u001b[0m\u001b[1;33m\u001b[0m\u001b[1;33m\u001b[0m\u001b[0m\n\u001b[0;32m     11\u001b[0m \u001b[0mprint\u001b[0m\u001b[1;33m(\u001b[0m\u001b[0mcov\u001b[0m\u001b[1;33m)\u001b[0m\u001b[1;33m\u001b[0m\u001b[1;33m\u001b[0m\u001b[0m\n\u001b[1;32m---> 12\u001b[1;33m \u001b[0mdist\u001b[0m\u001b[1;33m=\u001b[0m\u001b[1;33m(\u001b[0m\u001b[0mnp\u001b[0m\u001b[1;33m.\u001b[0m\u001b[0mtranspose\u001b[0m\u001b[1;33m(\u001b[0m\u001b[0mexample\u001b[0m \u001b[1;33m-\u001b[0m \u001b[0mnorm_point\u001b[0m\u001b[1;33m)\u001b[0m\u001b[1;33m*\u001b[0m\u001b[0mnp\u001b[0m\u001b[1;33m.\u001b[0m\u001b[0mlinalg\u001b[0m\u001b[1;33m.\u001b[0m\u001b[0minv\u001b[0m\u001b[1;33m(\u001b[0m\u001b[0mcov\u001b[0m\u001b[1;33m)\u001b[0m\u001b[1;33m*\u001b[0m\u001b[1;33m(\u001b[0m\u001b[0mexample\u001b[0m \u001b[1;33m-\u001b[0m \u001b[0mnorm_point\u001b[0m\u001b[1;33m)\u001b[0m\u001b[1;33m)\u001b[0m\u001b[1;33m**\u001b[0m\u001b[1;36m0.5\u001b[0m\u001b[1;33m\u001b[0m\u001b[1;33m\u001b[0m\u001b[0m\n\u001b[0m\u001b[0;32m     13\u001b[0m \u001b[1;33m\u001b[0m\u001b[0m\n\u001b[0;32m     14\u001b[0m \u001b[0mprint\u001b[0m\u001b[1;33m(\u001b[0m\u001b[0mdist\u001b[0m\u001b[1;33m)\u001b[0m\u001b[1;33m\u001b[0m\u001b[1;33m\u001b[0m\u001b[0m\n",
      "\u001b[1;32m~\\Anaconda3\\lib\\site-packages\\numpy\\matrixlib\\defmatrix.py\u001b[0m in \u001b[0;36m__mul__\u001b[1;34m(self, other)\u001b[0m\n\u001b[0;32m    218\u001b[0m         \u001b[1;32mif\u001b[0m \u001b[0misinstance\u001b[0m\u001b[1;33m(\u001b[0m\u001b[0mother\u001b[0m\u001b[1;33m,\u001b[0m \u001b[1;33m(\u001b[0m\u001b[0mN\u001b[0m\u001b[1;33m.\u001b[0m\u001b[0mndarray\u001b[0m\u001b[1;33m,\u001b[0m \u001b[0mlist\u001b[0m\u001b[1;33m,\u001b[0m \u001b[0mtuple\u001b[0m\u001b[1;33m)\u001b[0m\u001b[1;33m)\u001b[0m \u001b[1;33m:\u001b[0m\u001b[1;33m\u001b[0m\u001b[1;33m\u001b[0m\u001b[0m\n\u001b[0;32m    219\u001b[0m             \u001b[1;31m# This promotes 1-D vectors to row vectors\u001b[0m\u001b[1;33m\u001b[0m\u001b[1;33m\u001b[0m\u001b[1;33m\u001b[0m\u001b[0m\n\u001b[1;32m--> 220\u001b[1;33m             \u001b[1;32mreturn\u001b[0m \u001b[0mN\u001b[0m\u001b[1;33m.\u001b[0m\u001b[0mdot\u001b[0m\u001b[1;33m(\u001b[0m\u001b[0mself\u001b[0m\u001b[1;33m,\u001b[0m \u001b[0masmatrix\u001b[0m\u001b[1;33m(\u001b[0m\u001b[0mother\u001b[0m\u001b[1;33m)\u001b[0m\u001b[1;33m)\u001b[0m\u001b[1;33m\u001b[0m\u001b[1;33m\u001b[0m\u001b[0m\n\u001b[0m\u001b[0;32m    221\u001b[0m         \u001b[1;32mif\u001b[0m \u001b[0misscalar\u001b[0m\u001b[1;33m(\u001b[0m\u001b[0mother\u001b[0m\u001b[1;33m)\u001b[0m \u001b[1;32mor\u001b[0m \u001b[1;32mnot\u001b[0m \u001b[0mhasattr\u001b[0m\u001b[1;33m(\u001b[0m\u001b[0mother\u001b[0m\u001b[1;33m,\u001b[0m \u001b[1;34m'__rmul__'\u001b[0m\u001b[1;33m)\u001b[0m \u001b[1;33m:\u001b[0m\u001b[1;33m\u001b[0m\u001b[1;33m\u001b[0m\u001b[0m\n\u001b[0;32m    222\u001b[0m             \u001b[1;32mreturn\u001b[0m \u001b[0mN\u001b[0m\u001b[1;33m.\u001b[0m\u001b[0mdot\u001b[0m\u001b[1;33m(\u001b[0m\u001b[0mself\u001b[0m\u001b[1;33m,\u001b[0m \u001b[0mother\u001b[0m\u001b[1;33m)\u001b[0m\u001b[1;33m\u001b[0m\u001b[1;33m\u001b[0m\u001b[0m\n",
      "\u001b[1;31mValueError\u001b[0m: shapes (3,1) and (2,2) not aligned: 1 (dim 1) != 2 (dim 0)"
     ]
    }
   ],
   "source": [
    "#for i in range(data.shape[0])\n",
    "\n",
    "matrix=np.matrix(norm_data)\n",
    "matrix=np.transpose(matrix)\n",
    "example=matrix[1,column_ids]\n",
    "\n",
    "\n",
    "X = np.stack((example, np.matrix(norm_point)), axis=0)\n",
    "print(X)\n",
    "cov=np.cov(X)\n",
    "print(cov)\n",
    "dist=(np.transpose(example - norm_point)*np.linalg.inv(cov)*(example - norm_point))**0.5\n",
    "\n",
    "print(dist)"
   ]
  },
  {
   "cell_type": "markdown",
   "metadata": {},
   "source": [
    "## Semana 2. Regresión logistica\n",
    "ClasificadorRegresionLogistica\n",
    "\n",
    "\n",
    "Indians:\n",
    "\n",
    "preg = Number of times pregnant\n",
    "\n",
    "plas = Plasma glucose concentration a 2 hours in an oral glucose tolerance test\n",
    "\n",
    "pres = Diastolic blood pressure (mm Hg)\n",
    "\n",
    "skin = Triceps skin fold thickness (mm)\n",
    "\n",
    "test = 2-Hour serum insulin (mu U/ml)\n",
    "\n",
    "mass = Body mass index (weight in kg/(height in m)^2)\n",
    "\n",
    "pedi = Diabetes pedigree function\n",
    "\n",
    "age = Age (years)\n",
    "\n",
    "class = Class variable (1:tested positive for diabetes, 0: tested negative for diabetes)"
   ]
  },
  {
   "cell_type": "code",
   "execution_count": 267,
   "metadata": {},
   "outputs": [],
   "source": [
    "class ClasificadorRegresionLogistica:\n",
    "    def __init__(self,train_set, classes):\n",
    "        self.train_set=train_set\n",
    "        self.classes=classes\n",
    "        self.class_names=np.unique(self.classes)\n",
    "        self.class1=self.class_names[0]\n",
    "    def gradient_descent(self, rounds, eta):\n",
    "        \n",
    "        self.w=np.zeros(train_set.shape[1]+1)+0.5\n",
    "        for r in range(rounds):\n",
    "            for i in range(train_set.shape[0]):\n",
    "                x=np.array(train_set.iloc[i].values)\n",
    "                x=np.insert(x,0,1)\n",
    "                x=np.transpose(x)\n",
    "                if classes[i]==class1:\n",
    "                    t=1\n",
    "                else:\n",
    "                    t=0\n",
    "                wx=np.dot(self.w,x)\n",
    "                self.w=self.w-eta*(1/(1+np.exp(-wx))-t)*x\n",
    "        return(self.w)\n",
    "    def classify(self,x):\n",
    "        x=np.array(x)\n",
    "        x=np.insert(x,0,1)\n",
    "        x=np.transpose(x)\n",
    "        wx=np.dot(self.w,x)\n",
    "        if wx>=0:\n",
    "            return self.class1\n",
    "        else:\n",
    "            return self.class_names[1]"
   ]
  },
  {
   "cell_type": "code",
   "execution_count": 270,
   "metadata": {},
   "outputs": [
    {
     "name": "stdout",
     "output_type": "stream",
     "text": [
      "[  0.7   3.5  34.7 -29.1   5.1  19.3]\n",
      "0\n"
     ]
    }
   ],
   "source": [
    "import matplotlib.pyplot as plt\n",
    "\n",
    "atributes=[\"Pregs\",\"Plas\",\"Pres\",\"Skin\",\"Test\"]\n",
    "filter_zeros=[False, True, True, True, True]\n",
    "\n",
    "#Selecting only columns with atributes required\n",
    "train_set=data[atributes]\n",
    "#Filtering zero values\n",
    "for i in range(len(atributes)):\n",
    "    if filter_zeros[i]:\n",
    "        train_set=train_set.loc[train_set[atributes[i]]!=0]\n",
    "\n",
    "classes=data[class_name].values\n",
    "        \n",
    "model=ClasificadorRegresionLogistica(train_set,classes)\n",
    "w=model.gradient_descent(2, 0.2)\n",
    "print(w)\n",
    "\n",
    "x=[5,166,72,19,175]\n",
    "print(model.classify(x))"
   ]
  },
  {
   "cell_type": "code",
   "execution_count": 272,
   "metadata": {},
   "outputs": [
    {
     "data": {
      "text/plain": [
       "[<matplotlib.lines.Line2D at 0x2af3a155748>]"
      ]
     },
     "execution_count": 272,
     "metadata": {},
     "output_type": "execute_result"
    },
    {
     "data": {
      "image/png": "[encoded data removed]",
      "text/plain": [
       "<Figure size 432x288 with 1 Axes>"
      ]
     },
     "metadata": {
      "needs_background": "light"
     },
     "output_type": "display_data"
    }
   ],
   "source": [
    "x_a=np.array([0,40])\n",
    "y_a=-w[1]/w[2]*x_a-w[0]\n",
    "\n",
    "\n",
    "data_c1=train_set.loc[data['Class'] == 0]\n",
    "data_c2=train_set.loc[data['Class'] == 1]\n",
    "plt.scatter(data_c1[atributes[0]], data_c1[atributes[1]])\n",
    "plt.scatter(data_c2[atributes[0]], data_c2[atributes[1]])\n",
    "plt.plot(x_a,y_a)"
   ]
  },
  {
   "cell_type": "code",
   "execution_count": 281,
   "metadata": {},
   "outputs": [
    {
     "name": "stdout",
     "output_type": "stream",
     "text": [
      "[  0.7   3.5  34.7 -29.1   5.1  19.3]\n",
      "B\n"
     ]
    }
   ],
   "source": [
    "atributes=[\"Atributo1\",\"Atributo2\",\"Atributo3\",\"Atributo4\",\"Atributo5\"]\n",
    "filter_zeros=[False, True, True, True, True]\n",
    "\n",
    "#Selecting only columns with atributes required\n",
    "train_set1=data1[atributes]\n",
    "\n",
    "classes1=data1[class_name].values\n",
    "        \n",
    "model1=ClasificadorRegresionLogistica(train_set1,classes1)\n",
    "w1=model1.gradient_descent(2, 0.2)\n",
    "print(w1)\n",
    "x=[14.54,27.54,96.73,658.8,0.1139]\n",
    "print(model1.classify(x))"
   ]
  },
  {
   "cell_type": "code",
   "execution_count": 276,
   "metadata": {},
   "outputs": [
    {
     "data": {
      "text/plain": [
       "[<matplotlib.lines.Line2D at 0x2af3a276f08>]"
      ]
     },
     "execution_count": 276,
     "metadata": {},
     "output_type": "execute_result"
    },
    {
     "data": {
      "image/png": "[encoded data removed]",
      "text/plain": [
       "<Figure size 432x288 with 1 Axes>"
      ]
     },
     "metadata": {
      "needs_background": "light"
     },
     "output_type": "display_data"
    }
   ],
   "source": [
    "x_a=np.array([0,40])\n",
    "y_a=-w1[1]/w1[2]*x_a-w1[0]\n",
    "\n",
    "\n",
    "data_c1=train_set1.loc[data['Class'] == 0]\n",
    "data_c2=train_set1.loc[data['Class'] == 1]\n",
    "plt.scatter(data_c1[atributes[1]], data_c1[atributes[3]])\n",
    "plt.scatter(data_c2[atributes[1]], data_c2[atributes[3]])\n",
    "plt.plot(x_a,y_a)"
   ]
  }
 ],
 "metadata": {
  "kernelspec": {
   "display_name": "Python 3",
   "language": "python",
   "name": "python3"
  },
  "language_info": {
   "codemirror_mode": {
    "name": "ipython",
    "version": 3
   },
   "file_extension": ".py",
   "mimetype": "text/x-python",
   "name": "python",
   "nbconvert_exporter": "python",
   "pygments_lexer": "ipython3",
   "version": "3.7.4"
  }
 },
 "nbformat": 4,
 "nbformat_minor": 2
}
