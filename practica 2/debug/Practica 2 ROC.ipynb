{
 "cells": [
  {
   "cell_type": "markdown",
   "metadata": {},
   "source": [
    "# Práctica 2.\n",
    "\n",
    "## Semana 1. Vecinos próximos"
   ]
  },
  {
   "cell_type": "markdown",
   "metadata": {},
   "source": [
    "Read data"
   ]
  },
  {
   "cell_type": "code",
   "execution_count": 1,
   "metadata": {},
   "outputs": [
    {
     "name": "stdout",
     "output_type": "stream",
     "text": [
      "Column names:\n",
      "['Pregs', 'Plas', 'Pres', 'Skin', 'Test', 'Mass', 'Pedi', 'Age', 'Class']\n",
      "['Atributo1', 'Atributo2', 'Atributo3', 'Atributo4', 'Atributo5', 'Atributo6', 'Atributo7', 'Atributo8', 'Atributo9', 'Atributo10', 'Atributo11', 'Atributo12', 'Atributo13', 'Atributo14', 'Atributo15', 'Atributo16', 'Atributo17', 'Atributo18', 'Atributo19', 'Atributo20', 'Atributo21', 'Atributo22', 'Atributo23', 'Atributo24', 'Atributo25', 'Atributo26', 'Atributo27', 'Atributo28', 'Atributo29', 'Atributo30', 'Class']\n"
     ]
    }
   ],
   "source": [
    "import numpy as np\n",
    "import pandas as pd\n",
    "from statistics import mode \n",
    "\n",
    "filename=\"pima-indians-diabetes.data\"\n",
    "filename2=\"wdbc.data\"\n",
    "data = pd.read_csv(filename)\n",
    "data1=pd.read_csv(filename2)\n",
    "\n",
    "column_names=list(data.columns)\n",
    "column_names1=list(data1.columns)\n",
    "print(\"Column names:\")\n",
    "print(column_names)\n",
    "print(column_names1)\n",
    "class_name=\"Class\"\n",
    "\n",
    "class_list=data[class_name].values\n",
    "class_list1=data1[class_name].values"
   ]
  },
  {
   "cell_type": "code",
   "execution_count": 2,
   "metadata": {},
   "outputs": [],
   "source": [
    "import numpy as np\n",
    "import pandas as pd\n",
    "from statistics import mode \n",
    "class ClasificadorVecinosProximos:\n",
    "    def __init__(self,train_set, classes):\n",
    "        self.train=train_set.copy(deep=True)\n",
    "        self.classes=classes.values\n",
    "        self.class_names=np.unique(self.classes)\n",
    "        self.normalize_done=False\n",
    "        self.calcularMediasDesv()\n",
    "        \n",
    "    def calcularMediasDesv(self):\n",
    "        self.mean=self.train.mean(axis=0)\n",
    "        self.std=self.train.std(axis=0)\n",
    "    def normalizarDato(self, dato):\n",
    "        x=(dato-self.mean.values)/self.std.values\n",
    "        return(x)\n",
    "    def normalizarDatos(self):\n",
    "        if not self.normalize_done:\n",
    "            for att in self.train.columns:\n",
    "                self.train[att]=(self.train[att]-self.mean[att])/self.std[att]\n",
    "                self.normalize_done=True\n",
    "        return(self.train)\n",
    "\n",
    "    def euclidian_distance(self,dato):\n",
    "        i=0\n",
    "        square_dist=0\n",
    "        for att in self.train.columns:\n",
    "            square_dist=square_dist+(self.train[att].values-dato[i])**2\n",
    "            i+=1\n",
    "        square_dist=square_dist**0.5\n",
    "        return(square_dist)\n",
    "    def manhatten_distance(self,dato):\n",
    "        i=0\n",
    "        dist=0\n",
    "        for att in self.train.columns:\n",
    "            dist=dist+(self.train[att].values-dato[i])\n",
    "            i+=1\n",
    "        return(abs(dist))\n",
    "    def mahalanobis_distance(self,dato): \n",
    "        X=self.train.values\n",
    "        if self.normalize_done:\n",
    "            mu=np.zeros(len(dato))\n",
    "        else:\n",
    "            mu=self.mean\n",
    "        cov=np.cov(np.transpose(X-mu))\n",
    "        diff=dato - mu\n",
    "        inv=np.linalg.inv(cov)\n",
    "        left=np.dot(diff,inv)\n",
    "        dist=np.dot(left,np.transpose(diff))\n",
    "        return(dist)\n",
    "    def kneigbour_class(self, x, k, dist_type):\n",
    "        if dist_type==\"manhatten\":\n",
    "            dist=self.manhatten_distance(x)\n",
    "        elif dist_type==\"mahalanobis\":\n",
    "            dist=self.mahalanobis_distance(x)\n",
    "        else:\n",
    "            dist=self.euclidian_distance(x)\n",
    "        idx = np.argpartition(dist, k)\n",
    "        idx=idx[0:k]\n",
    "        values, counts = np.unique(self.classes[idx], return_counts=True)\n",
    "        self.prob=np.max(counts)/k\n",
    "        return mode(self.classes[idx])\n",
    "    def kneigbour_class_prob(self, x, k, dist_type):\n",
    "        self.kneigbour_class(x, k, dist_type)\n",
    "        return self.prob"
   ]
  },
  {
   "cell_type": "code",
   "execution_count": 2,
   "metadata": {},
   "outputs": [],
   "source": [
    "import EstrategiaParticionado\n",
    "\n",
    "estrategia=EstrategiaParticionado.ValidacionSimple(0.3, 1)\n",
    "parts = estrategia.creaParticiones(data)\n",
    "test_row_id=parts[0].indicesTest\n",
    "train_row_id=parts[0].indicesTrain\n",
    "\n",
    "atributes=['Pregs', 'Plas', 'Pres', 'Skin', 'Test', 'Mass', 'Pedi', 'Age']\n",
    "\n",
    "#Selecting only columns with atributes required\n",
    "train=data.loc[train_row_id,atributes].copy()\n",
    "train_class_list=data.loc[train_row_id,class_name]\n",
    "\n",
    "\n",
    "test=data.loc[test_row_id,atributes]\n",
    "test_class_list=data.loc[test_row_id,class_name]"
   ]
  },
  {
   "cell_type": "markdown",
   "metadata": {},
   "source": [
    "Error de predicción de modelo KNN para k diferentes:"
   ]
  },
  {
   "cell_type": "code",
   "execution_count": 4,
   "metadata": {},
   "outputs": [
    {
     "name": "stdout",
     "output_type": "stream",
     "text": [
      "Error:\n",
      "Dataset:  pima-indians-diabetes.data\n",
      "Atributos utilizados:  ['Pregs', 'Plas', 'Pres', 'Skin', 'Test', 'Mass', 'Pedi', 'Age']\n",
      "Datos normalizados, distancia euclidia\n",
      "K:  1 0.28\n",
      "K:  3 0.29\n",
      "K:  5 0.25\n",
      "K:  11 0.25\n",
      "K:  21 0.22\n",
      "Datos normalizados, distancia manhatten\n",
      "K:  1 0.34\n",
      "K:  3 0.31\n",
      "K:  5 0.29\n",
      "K:  11 0.33\n",
      "K:  21 0.3\n",
      "Datos sin normalizar, distancia euclidia\n",
      "K:  1 0.34\n",
      "K:  3 0.34\n",
      "K:  5 0.28\n",
      "K:  11 0.26\n",
      "K:  21 0.27\n",
      "Datos sin normalizar, distancia manhatten\n",
      "K:  1 0.4\n",
      "K:  3 0.37\n",
      "K:  5 0.35\n",
      "K:  11 0.33\n",
      "K:  21 0.33\n"
     ]
    }
   ],
   "source": [
    "def error(model, test, test_classes, normalize, k, distance):\n",
    "    err=0\n",
    "    for index, row in test.iterrows():\n",
    "        if normalize:\n",
    "            row=model.normalizarDato(row.values)\n",
    "        predicted=model.kneigbour_class(row, k, distance)\n",
    "        if predicted!=test_classes.loc[index]:\n",
    "            err+=1\n",
    "    return (round(err/test.shape[0],2))\n",
    "\n",
    "k_n=[1, 3, 5, 11, 21]\n",
    "\n",
    "\n",
    "mod_kn=ClasificadorVecinosProximos(train, train_class_list)\n",
    "norm_data=mod_kn.normalizarDatos()\n",
    "\n",
    "print(\"Error:\")\n",
    "print(\"Dataset: \", filename)\n",
    "print(\"Atributos utilizados: \", atributes)\n",
    "print(\"Datos normalizados, distancia euclidia\")\n",
    "for k in k_n:\n",
    "    print(\"K: \", k, error(mod_kn, test, test_class_list, True, k, \"euclidian\"))\n",
    "print(\"Datos normalizados, distancia manhatten\")\n",
    "for k in k_n:\n",
    "    print(\"K: \", k, error(mod_kn, test, test_class_list, True, k, \"manhatten\"))\n",
    "\n",
    "    \n",
    "  \n",
    "mod_sinnorm=ClasificadorVecinosProximos(train, train_class_list)  \n",
    "print(\"Datos sin normalizar, distancia euclidia\")\n",
    "for k in k_n:\n",
    "    print(\"K: \", k, error(mod_sinnorm, test, test_class_list, False, k, \"euclidian\"))\n",
    "print(\"Datos sin normalizar, distancia manhatten\")\n",
    "for k in k_n:\n",
    "    print(\"K: \", k, error(mod_sinnorm, test, test_class_list, False, k, \"manhatten\"))"
   ]
  },
  {
   "cell_type": "code",
   "execution_count": 3,
   "metadata": {},
   "outputs": [],
   "source": [
    "estrategia=EstrategiaParticionado.ValidacionSimple(0.3, 1)\n",
    "parts1 = estrategia.creaParticiones(data1)\n",
    "test_row_id1=parts1[0].indicesTest\n",
    "train_row_id1=parts1[0].indicesTrain\n",
    "\n",
    "atributes1=['Atributo1', 'Atributo2', 'Atributo3', 'Atributo4', 'Atributo5', 'Atributo6', 'Atributo7', 'Atributo8', 'Atributo9', 'Atributo10', 'Atributo11', 'Atributo12', 'Atributo13', 'Atributo14', 'Atributo15', 'Atributo16', 'Atributo17', 'Atributo18', 'Atributo19', 'Atributo20', 'Atributo21', 'Atributo22', 'Atributo23', 'Atributo24', 'Atributo25', 'Atributo26', 'Atributo27', 'Atributo28', 'Atributo29', 'Atributo30']\n",
    "\n",
    "#Selecting only columns with atributes required\n",
    "train1=data1.loc[train_row_id1,atributes1].copy()\n",
    "train_class_list1=data1.loc[train_row_id1,class_name]\n",
    "\n",
    "\n",
    "test1=data1.loc[test_row_id1,atributes1]\n",
    "test_class_list1=data1.loc[test_row_id1,class_name]"
   ]
  },
  {
   "cell_type": "code",
   "execution_count": 6,
   "metadata": {},
   "outputs": [
    {
     "name": "stdout",
     "output_type": "stream",
     "text": [
      "Error:\n",
      "Dataset:  wdbc.data\n",
      "Atributos utilizados:  ['Atributo1', 'Atributo2', 'Atributo3', 'Atributo4', 'Atributo5', 'Atributo6', 'Atributo7', 'Atributo8', 'Atributo9', 'Atributo10', 'Atributo11', 'Atributo12', 'Atributo13', 'Atributo14', 'Atributo15', 'Atributo16', 'Atributo17', 'Atributo18', 'Atributo19', 'Atributo20', 'Atributo21', 'Atributo22', 'Atributo23', 'Atributo24', 'Atributo25', 'Atributo26', 'Atributo27', 'Atributo28', 'Atributo29', 'Atributo30']\n",
      "Datos normalizados, distancia euclidia\n",
      "K:  1 0.06\n",
      "K:  3 0.05\n",
      "K:  5 0.05\n",
      "K:  11 0.05\n",
      "K:  21 0.04\n",
      "Datos normalizados, distancia manhatten\n",
      "K:  1 0.18\n",
      "K:  3 0.15\n",
      "K:  5 0.11\n",
      "K:  11 0.08\n",
      "K:  21 0.08\n",
      "Datos sin normalizar, distancia euclidia\n",
      "K:  1 0.08\n",
      "K:  3 0.07\n",
      "K:  5 0.06\n",
      "K:  11 0.08\n",
      "K:  21 0.08\n",
      "Datos sin normalizar, distancia manhatten\n",
      "K:  1 0.13\n",
      "K:  3 0.07\n",
      "K:  5 0.11\n",
      "K:  11 0.08\n",
      "K:  21 0.08\n"
     ]
    }
   ],
   "source": [
    "mod_kn1=ClasificadorVecinosProximos(train1, train_class_list1)\n",
    "norm_data1=mod_kn1.normalizarDatos()\n",
    "\n",
    "print(\"Error:\")\n",
    "print(\"Dataset: \", filename2)\n",
    "print(\"Atributos utilizados: \", atributes1)\n",
    "print(\"Datos normalizados, distancia euclidia\")\n",
    "for k in k_n:\n",
    "    print(\"K: \", k, error(mod_kn1, test1, test_class_list1, True, k, \"euclidian\"))\n",
    "print(\"Datos normalizados, distancia manhatten\")\n",
    "for k in k_n:\n",
    "    print(\"K: \", k, error(mod_kn1, test1, test_class_list1, True, k, \"manhatten\"))\n",
    "\n",
    "    \n",
    "mod1=ClasificadorVecinosProximos(train1, train_class_list1)  \n",
    "print(\"Datos sin normalizar, distancia euclidia\")\n",
    "for k in k_n:\n",
    "    print(\"K: \", k, error(mod1, test1, test_class_list1, False, k, \"euclidian\"))\n",
    "print(\"Datos sin normalizar, distancia manhatten\")\n",
    "for k in k_n:\n",
    "    print(\"K: \", k, error(mod1, test1, test_class_list1, False, k, \"manhatten\"))"
   ]
  },
  {
   "cell_type": "markdown",
   "metadata": {},
   "source": [
    "Error de Clasificador de Naive Bayes para los mismos datasets:"
   ]
  },
  {
   "cell_type": "code",
   "execution_count": 7,
   "metadata": {},
   "outputs": [
    {
     "name": "stdout",
     "output_type": "stream",
     "text": [
      "Naive Bayes Error:\n",
      "pima-indians-diabetes.data error 0.27\n",
      "wdbc.data error 0.04\n"
     ]
    }
   ],
   "source": [
    "from Datos import *\n",
    "import Clasificador\n",
    "print(\"Naive Bayes Error:\")\n",
    "dataset_nb=Datos(filename)\n",
    "\n",
    "cl_nb=Clasificador.ClasificadorNaiveBayes(True)\n",
    "errores=cl_nb.validacion(estrategia,dataset_nb,cl_nb)\n",
    "print(filename, \"error\", round(errores[0],2))\n",
    "\n",
    "dataset_nb1=Datos(filename2)\n",
    "\n",
    "cl_nb1=Clasificador.ClasificadorNaiveBayes(True)\n",
    "errores1=cl_nb1.validacion(estrategia,dataset_nb1,cl_nb1)\n",
    "print(filename2, \"error\", round(errores1[0],2))"
   ]
  },
  {
   "cell_type": "code",
   "execution_count": 8,
   "metadata": {},
   "outputs": [
    {
     "name": "stdout",
     "output_type": "stream",
     "text": [
      "Matriz de confusión\n",
      "Dataset:  pima-indians-diabetes.data\n",
      "Datos normalizados, distancia euclidia, k = 5\n",
      "[[ 53.  23.]\n",
      " [ 35. 119.]]\n",
      "Datos sin normalizar, distancia euclidia, k = 5\n",
      "[[ 45.  22.]\n",
      " [ 43. 120.]]\n",
      "Dataset:  wdbc.data\n",
      "Datos normalizados, distancia euclidia, k = 5\n",
      "[[ 58.   2.]\n",
      " [  6. 105.]]\n",
      "Datos sin normalizar, distancia euclidia, k = 5\n",
      "[[ 56.   3.]\n",
      " [  8. 104.]]\n"
     ]
    }
   ],
   "source": [
    "def confusion_mx_knn(model, test, test_classes, normalize, k, distance, positive, negative):\n",
    "    confusion_matrix=np.zeros([2,2])\n",
    "    for index, row in test.iterrows():\n",
    "        if normalize:\n",
    "            row=model.normalizarDato(row.values)\n",
    "        predicted=model.kneigbour_class(row, k, distance)\n",
    "        real=test_classes.loc[index]\n",
    "        if predicted==positive:\n",
    "            if real==positive:\n",
    "                confusion_matrix[0,0]+=1\n",
    "            else: \n",
    "                confusion_matrix[0,1]+=1\n",
    "        else:\n",
    "            if real==negative:\n",
    "                confusion_matrix[1,1]+=1\n",
    "            else: \n",
    "                confusion_matrix[1,0]+=1\n",
    "\n",
    "    return(confusion_matrix)\n",
    "\n",
    "k=5\n",
    "print(\"Matriz de confusión\")\n",
    "print(\"Dataset: \", filename)\n",
    "print(\"Datos normalizados, distancia euclidia, k =\", k)\n",
    "print(confusion_mx_knn(mod_kn, test, test_class_list, True, k, \"euclidian\", 1, 0))\n",
    "print(\"Datos sin normalizar, distancia euclidia, k =\", k)\n",
    "print(confusion_mx_knn(mod_sinnorm, test, test_class_list, False, k, \"euclidian\", 1, 0))\n",
    "\n",
    "print(\"Dataset: \", filename2)\n",
    "\n",
    "print(\"Datos normalizados, distancia euclidia, k =\",k)\n",
    "print(confusion_mx_knn(mod_kn1, test1, test_class_list1, True, k, \"euclidian\", \"M\", \"B\"))\n",
    "print(\"Datos sin normalizar, distancia euclidia, k =\", k)\n",
    "print(confusion_mx_knn(mod1, test1, test_class_list1, False, k, \"euclidian\", \"M\", \"B\"))\n"
   ]
  },
  {
   "cell_type": "markdown",
   "metadata": {},
   "source": [
    "__Test fields for calculating mahalanobis distance__"
   ]
  },
  {
   "cell_type": "code",
   "execution_count": 9,
   "metadata": {},
   "outputs": [
    {
     "name": "stdout",
     "output_type": "stream",
     "text": [
      "1.0\n"
     ]
    },
    {
     "data": {
      "text/plain": [
       "1.7320508075688772"
      ]
     },
     "execution_count": 9,
     "metadata": {},
     "output_type": "execute_result"
    }
   ],
   "source": [
    "from scipy.spatial import distance\n",
    "\n",
    "iv = [[1, 0.5, 0.5], [0.5, 1, 0.5], [0.5, 0.5, 1]]\n",
    "print(distance.mahalanobis([1, 0, 0], [0, 1, 0], iv))\n",
    "distance.mahalanobis([0, 2, 0], [0, 1, 0], iv)\n",
    "distance.mahalanobis([2, 0, 0], [0, 1, 0], iv)"
   ]
  },
  {
   "cell_type": "code",
   "execution_count": 10,
   "metadata": {},
   "outputs": [
    {
     "name": "stdout",
     "output_type": "stream",
     "text": [
      "30603.791687014374\n"
     ]
    }
   ],
   "source": [
    "#create function to calculate Mahalanobis distance\n",
    "def mahalanobis(x, y, cov=None):\n",
    "    x_mean = np.mean(x)\n",
    "    Covariance = np.cov(np.transpose(y))\n",
    "    inv_covmat = np.linalg.inv(Covariance)\n",
    "    x_minus_mn = x - x_mean\n",
    "    D_square = np.dot(np.dot(x_minus_mn, inv_covmat), np.transpose(x_minus_mn))\n",
    "    return D_square\n",
    "\n",
    "#create new column in dataframe that contains Mahalanobis distance for each row\n",
    "\n",
    "dist = mahalanobis(test.loc[4], train)\n",
    "#display first five rows of dataframe\n",
    "print(dist)"
   ]
  },
  {
   "cell_type": "code",
   "execution_count": 11,
   "metadata": {},
   "outputs": [
    {
     "name": "stdout",
     "output_type": "stream",
     "text": [
      "1.0\n"
     ]
    },
    {
     "ename": "NameError",
     "evalue": "name 'dato' is not defined",
     "output_type": "error",
     "traceback": [
      "\u001b[0;31m---------------------------------------------------------------------------\u001b[0m",
      "\u001b[0;31mNameError\u001b[0m                                 Traceback (most recent call last)",
      "\u001b[0;32m<ipython-input-11-f5e6fc0502b2>\u001b[0m in \u001b[0;36m<module>\u001b[0;34m\u001b[0m\n\u001b[1;32m      6\u001b[0m \u001b[0;34m\u001b[0m\u001b[0m\n\u001b[1;32m      7\u001b[0m \u001b[0mX\u001b[0m\u001b[0;34m=\u001b[0m\u001b[0mnorm_data\u001b[0m\u001b[0;34m[\u001b[0m\u001b[0matributes\u001b[0m\u001b[0;34m]\u001b[0m\u001b[0;34m.\u001b[0m\u001b[0mvalues\u001b[0m\u001b[0;34m\u001b[0m\u001b[0;34m\u001b[0m\u001b[0m\n\u001b[0;32m----> 8\u001b[0;31m \u001b[0mmu\u001b[0m\u001b[0;34m=\u001b[0m\u001b[0mnp\u001b[0m\u001b[0;34m.\u001b[0m\u001b[0mzeros\u001b[0m\u001b[0;34m(\u001b[0m\u001b[0mlen\u001b[0m\u001b[0;34m(\u001b[0m\u001b[0mdato\u001b[0m\u001b[0;34m)\u001b[0m\u001b[0;34m)\u001b[0m\u001b[0;34m\u001b[0m\u001b[0;34m\u001b[0m\u001b[0m\n\u001b[0m\u001b[1;32m      9\u001b[0m \u001b[0mprint\u001b[0m\u001b[0;34m(\u001b[0m\u001b[0mmu\u001b[0m\u001b[0;34m)\u001b[0m\u001b[0;34m\u001b[0m\u001b[0;34m\u001b[0m\u001b[0m\n\u001b[1;32m     10\u001b[0m \u001b[0mcov\u001b[0m\u001b[0;34m=\u001b[0m\u001b[0mnp\u001b[0m\u001b[0;34m.\u001b[0m\u001b[0mdot\u001b[0m\u001b[0;34m(\u001b[0m\u001b[0mnp\u001b[0m\u001b[0;34m.\u001b[0m\u001b[0mtranspose\u001b[0m\u001b[0;34m(\u001b[0m\u001b[0mX\u001b[0m\u001b[0;34m)\u001b[0m\u001b[0;34m,\u001b[0m\u001b[0mX\u001b[0m\u001b[0;34m)\u001b[0m\u001b[0;34m\u001b[0m\u001b[0;34m\u001b[0m\u001b[0m\n",
      "\u001b[0;31mNameError\u001b[0m: name 'dato' is not defined"
     ]
    }
   ],
   "source": [
    "from scipy.spatial import distance\n",
    "iv = [[1, 0.5, 0.5], [0.5, 1, 0.5], [0.5, 0.5, 1]]\n",
    "print(distance.mahalanobis([1, 0, 0], [0, 1, 0], iv))\n",
    "distance.mahalanobis([0, 2, 0], [0, 1, 0], iv)\n",
    "distance.mahalanobis([2, 0, 0], [0, 1, 0], iv)\n",
    "\n",
    "X=norm_data[atributes].values\n",
    "mu=np.zeros(len(dato))\n",
    "print(mu)\n",
    "cov=np.dot(np.transpose(X),X)\n",
    "print(np.cov(np.transpose(X)))\n",
    "diff=dato - mu\n",
    "print(diff)\n",
    "inv=np.linalg.inv(cov)\n",
    "left=np.dot(np.transpose(diff),inv)\n",
    "dist=np.dot(left,diff)\n",
    "print(cov)\n",
    "print(dist)"
   ]
  },
  {
   "cell_type": "code",
   "execution_count": 12,
   "metadata": {},
   "outputs": [
    {
     "ename": "NameError",
     "evalue": "name 'column_ids' is not defined",
     "output_type": "error",
     "traceback": [
      "\u001b[0;31m---------------------------------------------------------------------------\u001b[0m",
      "\u001b[0;31mNameError\u001b[0m                                 Traceback (most recent call last)",
      "\u001b[0;32m<ipython-input-12-106dac68df12>\u001b[0m in \u001b[0;36m<module>\u001b[0;34m\u001b[0m\n\u001b[1;32m      3\u001b[0m \u001b[0mmatrix\u001b[0m\u001b[0;34m=\u001b[0m\u001b[0mnp\u001b[0m\u001b[0;34m.\u001b[0m\u001b[0mmatrix\u001b[0m\u001b[0;34m(\u001b[0m\u001b[0mnorm_data\u001b[0m\u001b[0;34m)\u001b[0m\u001b[0;34m\u001b[0m\u001b[0;34m\u001b[0m\u001b[0m\n\u001b[1;32m      4\u001b[0m \u001b[0mmatrix\u001b[0m\u001b[0;34m=\u001b[0m\u001b[0mnp\u001b[0m\u001b[0;34m.\u001b[0m\u001b[0mtranspose\u001b[0m\u001b[0;34m(\u001b[0m\u001b[0mmatrix\u001b[0m\u001b[0;34m)\u001b[0m\u001b[0;34m\u001b[0m\u001b[0;34m\u001b[0m\u001b[0m\n\u001b[0;32m----> 5\u001b[0;31m \u001b[0mexample\u001b[0m\u001b[0;34m=\u001b[0m\u001b[0mmatrix\u001b[0m\u001b[0;34m[\u001b[0m\u001b[0mcolumn_ids\u001b[0m\u001b[0;34m]\u001b[0m\u001b[0;34m\u001b[0m\u001b[0;34m\u001b[0m\u001b[0m\n\u001b[0m\u001b[1;32m      6\u001b[0m \u001b[0;34m\u001b[0m\u001b[0m\n\u001b[1;32m      7\u001b[0m \u001b[0;34m\u001b[0m\u001b[0m\n",
      "\u001b[0;31mNameError\u001b[0m: name 'column_ids' is not defined"
     ]
    }
   ],
   "source": [
    "#for i in range(data.shape[0])\n",
    "\n",
    "matrix=np.matrix(norm_data)\n",
    "matrix=np.transpose(matrix)\n",
    "example=matrix[column_ids]\n",
    "\n",
    "\n",
    "X = np.stack((example, np.matrix(norm_point)), axis=0)\n",
    "print(X)\n",
    "cov=np.cov(X)\n",
    "print(cov)\n",
    "dist=(np.transpose(example - norm_point)*np.linalg.inv(cov)*(example - norm_point))**0.5\n",
    "\n",
    "print(dist)"
   ]
  },
  {
   "cell_type": "markdown",
   "metadata": {},
   "source": [
    "## Semana 2. Regresión logistica\n",
    "ClasificadorRegresionLogistica\n",
    "\n"
   ]
  },
  {
   "cell_type": "code",
   "execution_count": null,
   "metadata": {},
   "outputs": [],
   "source": [
    "class ClasificadorRegresionLogistica:\n",
    "    def __init__(self,train_set, classes):\n",
    "        self.train_set=train_set\n",
    "        self.classes=classes\n",
    "        self.class_names=np.unique(self.classes)\n",
    "        self.class1=self.class_names[0]\n",
    "    def gradient_descent(self, rounds, eta):\n",
    "        self.w=np.zeros(self.train_set.shape[1]+1)+0.5\n",
    "        for r in range(rounds):\n",
    "            #for i in range(self.train_set.shape[0]):\n",
    "            for i, row in self.train_set.iterrows():\n",
    "                #x=np.array(self.train_set.iloc[i].values)\n",
    "                x=np.array(row.values)\n",
    "                x=np.insert(x,0,1)\n",
    "                x=np.transpose(x)\n",
    "                if self.classes[i]==self.class1:\n",
    "                    t=1\n",
    "                else:\n",
    "                    t=0\n",
    "                wx=np.dot(self.w,x)\n",
    "                self.w=self.w-eta*(1/(1+np.exp(-wx))-t)*x\n",
    "        return(self.w)\n",
    "    def classify(self,x):\n",
    "        x=np.array(x)\n",
    "        x=np.insert(x,0,1)\n",
    "        x=np.transpose(x)\n",
    "        self.wx=np.dot(self.w,x)\n",
    "        if self.wx>=0:\n",
    "            return self.class1\n",
    "        else:\n",
    "            return self.class_names[1]\n",
    "    def probability(self,x):\n",
    "        p=1/(1+np.exp(-self.wx))\n",
    "        return p\n",
    "    "
   ]
  },
  {
   "cell_type": "code",
   "execution_count": null,
   "metadata": {},
   "outputs": [],
   "source": [
    "def error_rg(model, test, test_classes):\n",
    "    err=0\n",
    "    for index, row in test.iterrows():\n",
    "        predicted=model.classify(row)\n",
    "        if predicted!=test_classes.loc[index]:\n",
    "            err+=1\n",
    "    return (round(err/test.shape[0],2))\n",
    "\n",
    "model_rg=ClasificadorRegresionLogistica(train,train_class_list)\n",
    "w=model_rg.gradient_descent(1000, 0.001)\n",
    "print(\"Error regresión logistica, dataset\", filename)\n",
    "print(error_rg(model_rg, test, test_class_list))\n",
    "model_rg1=ClasificadorRegresionLogistica(train1,train_class_list1)\n",
    "w1=model_rg1.gradient_descent(1000, 0.001)\n",
    "print(\"Error regresión logistica, dataset\", filename2)\n",
    "print(error_rg(model_rg1, test1, test_class_list1))\n"
   ]
  },
  {
   "cell_type": "markdown",
   "metadata": {},
   "source": [
    "## Semana 4. Curvas ROC"
   ]
  },
  {
   "cell_type": "markdown",
   "metadata": {},
   "source": [
    "KNN"
   ]
  },
  {
   "cell_type": "markdown",
   "metadata": {},
   "source": [
    "Dataset pima-indians-diabetes.data"
   ]
  },
  {
   "cell_type": "code",
   "execution_count": null,
   "metadata": {},
   "outputs": [],
   "source": [
    "from sklearn.metrics import roc_curve, roc_auc_score\n",
    "import matplotlib.pyplot as plt\n",
    "def class_prob(model, test, normalize, k, distance):\n",
    "    pred_class=[]\n",
    "    prob_class=[]\n",
    "    for index, row in test.iterrows():\n",
    "        if normalize:\n",
    "            row=model.normalizarDato(row.values)\n",
    "        predicted=model.kneigbour_class(row, k, distance)\n",
    "        pred_class.append(predicted)\n",
    "        prob_class.append(model.kneigbour_class_prob(row, k, distance))\n",
    "    return np.array([pred_class, prob_class])\n",
    "\n",
    "class2=0\n",
    "auc=[]  \n",
    "for k in k_n:\n",
    "    cl,p=class_prob(mod_kn, test, True, k, \"euclidian\")\n",
    "    #Calculate prabability of class 1\n",
    "    p=p.astype(np.float)\n",
    "    ids_cl2=np.where(cl==class2)\n",
    "    p[ids_cl2]=1-p[ids_cl2]\n",
    "    fpr, tpr, thresholds = roc_curve(test_class_list.values, p)\n",
    "    plt.plot(fpr, tpr, label=k)\n",
    "    auc.append(roc_auc_score(test_class_list.values, p))\n",
    "\n",
    "plt.plot([0, 1], [0, 1], color='darkblue', linestyle='--')\n",
    "plt.xlabel('False Positive Rate')\n",
    "plt.ylabel('True Positive Rate')\n",
    "plt.title('ROC Curve, KNN, pima-indians-diabetes, normalized')\n",
    "plt.legend()\n",
    "plt.show()\n",
    "print(\"AUC\")\n",
    "for k,a in zip(k_n,auc):\n",
    "    print(k, round(a,2))"
   ]
  },
  {
   "cell_type": "markdown",
   "metadata": {},
   "source": [
    "wdbc dataset"
   ]
  },
  {
   "cell_type": "code",
   "execution_count": null,
   "metadata": {},
   "outputs": [],
   "source": [
    "class2='B'\n",
    "auc=[]  \n",
    "for k in k_n:\n",
    "    cl,p=class_prob(mod_kn1, test1, True, k, \"euclidian\")\n",
    "    #Calculate prabability of class 1\n",
    "    p=p.astype(np.float)\n",
    "    ids_cl2=np.where(cl==class2)\n",
    "    p[ids_cl2]=1-p[ids_cl2]\n",
    "    fpr, tpr, thresholds = roc_curve(test_class_list1.values, p, pos_label='M')\n",
    "    plt.plot(fpr, tpr, label=k)\n",
    "    auc.append(roc_auc_score(test_class_list1.values, p))\n",
    "\n",
    "plt.plot([0, 1], [0, 1], color='darkblue', linestyle='--')\n",
    "plt.xlabel('False Positive Rate')\n",
    "plt.ylabel('True Positive Rate')\n",
    "plt.title('ROC Curve, KNN, wdbc, normalized')\n",
    "plt.legend()\n",
    "plt.show()\n",
    "print(\"AUC\")\n",
    "for k,a in zip(k_n,auc):\n",
    "    print(k, round(a,2))\n",
    "\n",
    "\n"
   ]
  },
  {
   "cell_type": "markdown",
   "metadata": {},
   "source": [
    "__Curva ROC regresión logistica__\n",
    "\n",
    "Clasificador de regresión logistica considera que clase 1 es el primero en la lista unica de clases, puede no coincidir con clase lógico original. En este ejemplo para pima-indians-diabetes se calcula la probabilidad de 0 y para wdbc para \"B\"."
   ]
  },
  {
   "cell_type": "code",
   "execution_count": null,
   "metadata": {},
   "outputs": [],
   "source": [
    "def class_prob_log(model, test):\n",
    "    pred_class=[]\n",
    "    prob_class=[]\n",
    "    for index, row in test.iterrows():\n",
    "        pred_class.append(model.classify(row))\n",
    "        prob_class.append(model.probability(row))\n",
    "    return np.array([pred_class, prob_class])\n",
    "\n",
    "print(\"Dataset pima-indians-diabetes Class1:\", model_rg.class1)\n",
    "cl,p=class_prob_log(model_rg, test)\n",
    "#Calculate prabability of class 1\n",
    "p=1-p.astype(np.float)\n",
    "fpr, tpr, thresholds = roc_curve(test_class_list.values, p, pos_label=1)\n",
    "plt.plot(fpr, tpr, label=\"pima-indians-diabetes\")\n",
    "\n",
    "cl1,p1=class_prob_log(model_rg1, test1)\n",
    "print(\"Dataset wdbc Class1:\", model_rg1.class1)\n",
    "\n",
    "#Calculate prabability of class 1\n",
    "p1=1-p1.astype(np.float)\n",
    "\n",
    "fpr1, tpr1, thresholds1 = roc_curve(test_class_list1.values,p1,pos_label='M')\n",
    "\n",
    "plt.plot(fpr1, tpr1, label=\"wdbc\")\n",
    "\n",
    "\n",
    "plt.plot([0, 1], [0, 1], color='darkblue', linestyle='--')\n",
    "plt.xlabel('False Positive Rate')\n",
    "plt.ylabel('True Positive Rate')\n",
    "plt.title('ROC Curve, Logistic regression')\n",
    "plt.legend()\n",
    "plt.show()\n",
    "auc=roc_auc_score(test_class_list.values, p)\n",
    "auc1=roc_auc_score(test_class_list1.values,p1)\n",
    "print(\"AUC, pima-indians-diabetes:\", round(auc,2))\n",
    "print(\"AUC, wdbc:\", round(auc1,2))"
   ]
  },
  {
   "cell_type": "code",
   "execution_count": 2,
   "metadata": {},
   "outputs": [],
   "source": [
    "from Datos import *\n",
    "import Clasificador\n",
    "import EstrategiaParticionado\n",
    "from sklearn.metrics import roc_curve, roc_auc_score\n",
    "import matplotlib.pyplot as plt\n",
    "\n",
    "estrategia=EstrategiaParticionado.ValidacionSimple(0.3, 1)\n",
    "dataset_nb=Datos(filename)\n",
    "cl_nb=Clasificador.ClasificadorNaiveBayes(True)\n",
    "#print(train)\n",
    "#cl_nb.entrenamiento(dataset_nb,dataset_nb.nominalAtributos,dataset_nb.diccionario)\n",
    "dataset_nb1=Datos(filename2)\n",
    "cl_nb1=Clasificador.ClasificadorNaiveBayes(True)\n",
    "#cl_nb1.entrenamiento(dataset_nb1,dataset_nb1.nominalAtributos,dataset_nb1.diccionario)"
   ]
  },
  {
   "cell_type": "code",
   "execution_count": 3,
   "metadata": {},
   "outputs": [
    {
     "data": {
      "image/png": "[encoded data removed]",
      "text/plain": [
       "<Figure size 432x288 with 1 Axes>"
      ]
     },
     "metadata": {
      "needs_background": "light"
     },
     "output_type": "display_data"
    },
    {
     "name": "stdout",
     "output_type": "stream",
     "text": [
      "AUC, pima-indians-diabetes: 0.48\n",
      "AUC, wdbc: 0.64\n"
     ]
    }
   ],
   "source": [
    "def class_prob_nb(model, dataset,test):\n",
    "    pred_class=[]\n",
    "    prob_class=[]\n",
    "    for index, row in test.iterrows():\n",
    "        cl=model.clasifica(row, dataset.nominalAtributos, dataset.diccionario)\n",
    "        p=model.probability()\n",
    "        pred_class.append(cl)\n",
    "        prob_class.append(p)\n",
    "    return np.array([pred_class, prob_class])\n",
    "#cl_nb,p_nb = class_prob_nb(cl_nb, dataset_nb, test)\n",
    "\n",
    "#cl_nb1,p_nb1 = class_prob_nb(cl_nb1, dataset_nb1, test1)\n",
    "\n",
    "cl_nb.validacion(estrategia, dataset_nb, cl_nb)\n",
    "cl,p_nb = np.array([cl_nb.predictions, cl_nb.probability()])\n",
    "cl_nb1.validacion(estrategia, dataset_nb1, cl_nb1)\n",
    "cl1,p_nb1 = np.array([cl_nb1.predictions, cl_nb1.probability()])\n",
    "\n",
    "\n",
    "parts = estrategia.creaParticiones(data)\n",
    "test_row_id=parts[0].indicesTest\n",
    "train_row_id=parts[0].indicesTrain\n",
    "atributes=['Pregs', 'Plas', 'Pres', 'Skin', 'Test', 'Mass', 'Pedi', 'Age']\n",
    "#Selecting only columns with atributes required\n",
    "train=data.loc[train_row_id,atributes].copy()\n",
    "train_class_list=data.loc[train_row_id,class_name]\n",
    "test=data.loc[test_row_id,atributes]\n",
    "test_class_list=data.loc[test_row_id,class_name]\n",
    "\n",
    "parts1 = estrategia.creaParticiones(data1)\n",
    "test_row_id1=parts1[0].indicesTest\n",
    "train_row_id1=parts1[0].indicesTrain\n",
    "atributes1=['Atributo1', 'Atributo2', 'Atributo3', 'Atributo4', 'Atributo5', 'Atributo6', 'Atributo7', 'Atributo8', 'Atributo9', 'Atributo10', 'Atributo11', 'Atributo12', 'Atributo13', 'Atributo14', 'Atributo15', 'Atributo16', 'Atributo17', 'Atributo18', 'Atributo19', 'Atributo20', 'Atributo21', 'Atributo22', 'Atributo23', 'Atributo24', 'Atributo25', 'Atributo26', 'Atributo27', 'Atributo28', 'Atributo29', 'Atributo30']\n",
    "#Selecting only columns with atributes required\n",
    "train1=data1.loc[train_row_id1,atributes1].copy()\n",
    "train_class_list1=data1.loc[train_row_id1,class_name]\n",
    "test1=data1.loc[test_row_id1,atributes1]\n",
    "test_class_list1=data1.loc[test_row_id1,class_name]\n",
    "\n",
    "\n",
    "test1=data1.loc[test_row_id1,atributes1]\n",
    "test_class_list1=data1.loc[test_row_id1,class_name]\n",
    "\n",
    "class2=0\n",
    "ids_clnb=np.where(cl==class2)\n",
    "p_nb[ids_clnb]=1-p_nb[ids_clnb]\n",
    "fpr_nb, tpr_nb, thresholds_nb = roc_curve(test_class_list.values, p_nb, pos_label=1)\n",
    "plt.plot(fpr_nb, tpr_nb, label=\"pima-indians-diabetes\")\n",
    "\n",
    "\n",
    "class22='B'\n",
    "p_nb1=p_nb1.astype(np.float)\n",
    "idsnb_cl2=np.where(cl1==class22)\n",
    "p_nb1[idsnb_cl2]=1-p_nb1[idsnb_cl2]\n",
    "fpr_nb1, tpr_nb1, thresholds_nb1 = roc_curve(test_class_list1.values, p_nb1, pos_label='M')\n",
    "plt.plot(fpr_nb1, tpr_nb1, label=\"wdbc\")\n",
    "\n",
    "\n",
    "plt.plot([0, 1], [0, 1], color='darkblue', linestyle='--')\n",
    "plt.xlabel('False Positive Rate')\n",
    "plt.ylabel('True Positive Rate')\n",
    "plt.title('ROC Curve, Naive Bayes')\n",
    "plt.legend()\n",
    "plt.show()\n",
    "auc=roc_auc_score(test_class_list.values, p_nb)\n",
    "auc1=roc_auc_score(test_class_list1.values,p_nb1)\n",
    "print(\"AUC, pima-indians-diabetes:\", round(auc,2))\n",
    "print(\"AUC, wdbc:\", round(auc1,2))"
   ]
  },
  {
   "cell_type": "code",
   "execution_count": null,
   "metadata": {},
   "outputs": [],
   "source": []
  }
 ],
 "metadata": {
  "kernelspec": {
   "display_name": "Python 3",
   "language": "python",
   "name": "python3"
  },
  "language_info": {
   "codemirror_mode": {
    "name": "ipython",
    "version": 3
   },
   "file_extension": ".py",
   "mimetype": "text/x-python",
   "name": "python",
   "nbconvert_exporter": "python",
   "pygments_lexer": "ipython3",
   "version": "3.6.11"
  }
 },
 "nbformat": 4,
 "nbformat_minor": 2
}
