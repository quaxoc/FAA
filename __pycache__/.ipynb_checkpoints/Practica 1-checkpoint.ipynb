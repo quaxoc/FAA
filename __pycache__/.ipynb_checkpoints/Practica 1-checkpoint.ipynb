{
 "cells": [
  {
   "cell_type": "markdown",
   "metadata": {},
   "source": [
    "# Practica de Introducción (0)\n",
    "### Makarova Evgeniia"
   ]
  },
  {
   "cell_type": "markdown",
   "metadata": {},
   "source": [
    "First version of class Datos where dictionary is represented as a list of dictionaries"
   ]
  },
  {
   "cell_type": "code",
   "execution_count": 9,
   "metadata": {},
   "outputs": [],
   "source": [
    "import pandas as pd\n",
    "import numpy as np\n",
    "\n",
    "class Datos:\n",
    "  \n",
    "  # TODO: procesar el fichero para asignar correctamente las variables nominalAtributos, datos y diccionario\n",
    "  def __init__(self, filename):\n",
    "\n",
    "    data_tic = pd.read_csv(filename)\n",
    "    #Array of column names\n",
    "    column_names=list(data_tic.columns)\n",
    "    #Converting data from panda dataframe to numpy array\n",
    "    self.datos=data_tic.to_numpy()\n",
    "\n",
    "    #Checking column data types where strings are returned as True, interger and float as false \n",
    "    #and an exception for other data types \n",
    "    self.nominalAtributos=[]\n",
    "    for val in self.datos[0,:]:\n",
    "        if isinstance(val, str):\n",
    "            self.nominalAtributos.append(True)\n",
    "        elif isinstance(val, int) or isinstance(val, float):\n",
    "            self.nominalAtributos.append(False)\n",
    "        else:\n",
    "            raise TypeError(\"Data types can only include string, interger or float\")\n",
    "    \n",
    "    #getting the number of columns\n",
    "    columns = self.datos.shape[1]\n",
    "    #creating a dictionary as an array of dictionaries for each column\n",
    "    self.diccionario=[]\n",
    "    for i in range(columns):\n",
    "        dict_tmp={}\n",
    "        #filling dictionary with unique values\n",
    "        values=np.unique(self.datos[:,i])\n",
    "        dict_tmp=dict(zip(values,range(len(values))))\n",
    "        self.diccionario.append(dict_tmp)\n",
    "\n",
    "    \n",
    "  # TODO: implementar en la práctica 1\n",
    "  def extraeDatos(self, idx):\n",
    "    pass"
   ]
  },
  {
   "cell_type": "code",
   "execution_count": 10,
   "metadata": {},
   "outputs": [
    {
     "name": "stdout",
     "output_type": "stream",
     "text": [
      "[True, True, True, True, True, True, True, True, True, True]\n",
      "[{'b': 0, 'o': 1, 'x': 2}, {'b': 0, 'o': 1, 'x': 2}, {'b': 0, 'o': 1, 'x': 2}, {'b': 0, 'o': 1, 'x': 2}, {'b': 0, 'o': 1, 'x': 2}, {'b': 0, 'o': 1, 'x': 2}, {'b': 0, 'o': 1, 'x': 2}, {'b': 0, 'o': 1, 'x': 2}, {'b': 0, 'o': 1, 'x': 2}, {'negative': 0, 'positive': 1}]\n",
      "[['x' 'x' 'x' ... 'o' 'o' 'positive']\n",
      " ['x' 'x' 'x' ... 'x' 'o' 'positive']\n",
      " ['x' 'x' 'x' ... 'o' 'x' 'positive']\n",
      " ...\n",
      " ['o' 'x' 'o' ... 'o' 'x' 'negative']\n",
      " ['o' 'x' 'o' ... 'o' 'x' 'negative']\n",
      " ['o' 'o' 'x' ... 'x' 'x' 'negative']]\n"
     ]
    }
   ],
   "source": [
    "dataset=Datos('ConjuntosDatos/tic-tac-toe.data')\n",
    "print(dataset.nominalAtributos)\n",
    "print(dataset.diccionario)\n",
    "print(dataset.datos)"
   ]
  },
  {
   "cell_type": "markdown",
   "metadata": {},
   "source": [
    "Same but dictionary is represented as a dictionary of dictionaries"
   ]
  },
  {
   "cell_type": "code",
   "execution_count": 11,
   "metadata": {},
   "outputs": [],
   "source": [
    "class Datos1:\n",
    "  \n",
    "  # TODO: procesar el fichero para asignar correctamente las variables nominalAtributos, datos y diccionario\n",
    "  def __init__(self, filename):\n",
    "    #filename='ConjuntosDatos/tic-tac-toe.data'\n",
    "    data_tic = pd.read_csv(filename)\n",
    "    column_names=list(data_tic.columns)\n",
    "    self.datos=data_tic.to_numpy()\n",
    "\n",
    "    self.nominalAtributos=[]\n",
    "    for val in self.datos[0,:]:\n",
    "        if isinstance(val, str):\n",
    "            self.nominalAtributos.append(True)\n",
    "        elif isinstance(val, int) or isinstance(val, float):\n",
    "            self.nominalAtributos.append(False)\n",
    "        else:\n",
    "            raise TypeError(\"Data types can only include string, interger or float\")\n",
    "\n",
    "    columns = self.datos.shape[1]\n",
    "    self.diccionario={}\n",
    "    for i in range(columns):\n",
    "        dict_tmp={}\n",
    "        values=np.unique(self.datos[:,i])\n",
    "        dict_tmp=dict(zip(values,range(len(values))))\n",
    "        self.diccionario[column_names[i]]=dict_tmp\n",
    "\n",
    "\n",
    "   \n",
    "  # TODO: implementar en la práctica 1\n",
    "  def extraeDatos(self, idx):\n",
    "    pass"
   ]
  },
  {
   "cell_type": "code",
   "execution_count": 12,
   "metadata": {},
   "outputs": [
    {
     "name": "stdout",
     "output_type": "stream",
     "text": [
      "[True, True, True, True, True, True, True, True, True, True]\n",
      "{'TLeftSq': {'b': 0, 'o': 1, 'x': 2}, 'TMidSq': {'b': 0, 'o': 1, 'x': 2}, 'TRightSq': {'b': 0, 'o': 1, 'x': 2}, 'MLeftSq': {'b': 0, 'o': 1, 'x': 2}, 'MMidSq': {'b': 0, 'o': 1, 'x': 2}, 'MRightSq': {'b': 0, 'o': 1, 'x': 2}, 'BLeftSq': {'b': 0, 'o': 1, 'x': 2}, 'BMidSq': {'b': 0, 'o': 1, 'x': 2}, 'BRightSq': {'b': 0, 'o': 1, 'x': 2}, 'Class': {'negative': 0, 'positive': 1}}\n",
      "[['x' 'x' 'x' ... 'o' 'o' 'positive']\n",
      " ['x' 'x' 'x' ... 'x' 'o' 'positive']\n",
      " ['x' 'x' 'x' ... 'o' 'x' 'positive']\n",
      " ...\n",
      " ['o' 'x' 'o' ... 'o' 'x' 'negative']\n",
      " ['o' 'x' 'o' ... 'o' 'x' 'negative']\n",
      " ['o' 'o' 'x' ... 'x' 'x' 'negative']]\n"
     ]
    }
   ],
   "source": [
    "dataset=Datos1('ConjuntosDatos/tic-tac-toe.data')\n",
    "print(dataset.nominalAtributos)\n",
    "print(dataset.diccionario)\n",
    "print(dataset.datos)"
   ]
  }
 ],
 "metadata": {
  "kernelspec": {
   "display_name": "Python 3",
   "language": "python",
   "name": "python3"
  },
  "language_info": {
   "codemirror_mode": {
    "name": "ipython",
    "version": 3
   },
   "file_extension": ".py",
   "mimetype": "text/x-python",
   "name": "python",
   "nbconvert_exporter": "python",
   "pygments_lexer": "ipython3",
   "version": "3.7.4"
  }
 },
 "nbformat": 4,
 "nbformat_minor": 2
}
