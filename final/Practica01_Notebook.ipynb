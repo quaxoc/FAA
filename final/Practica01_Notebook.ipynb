{
 "cells": [
  {
   "cell_type": "markdown",
   "metadata": {},
   "source": [
    "#### Makarova Evgeniia\n",
    "#### Alejandro Pereña López\n",
    "\n",
    "# Practica 1. Naive-Bayes"
   ]
  },
  {
   "cell_type": "markdown",
   "metadata": {},
   "source": [
    "## Apartado 1: Particionado\n",
    "Análisis de las dos estrategias de particionado propuestas: simple, y cruzada, para los conjuntos propuestos: german y tic-tac-toe. El análisis consiste en una descripción de los índices de train y test devueltos por cada uno de los métodos de particionado, junto con un comentario sobre las ventajas/desventajas de cada uno de ellos."
   ]
  },
  {
   "cell_type": "code",
   "execution_count": 1,
   "metadata": {},
   "outputs": [],
   "source": [
    "import numpy as np\n",
    "from sklearn import preprocessing\n",
    "from sklearn.naive_bayes import *\n",
    "\n",
    "from Datos import *\n",
    "import EstrategiaParticionado\n",
    "import Clasificador\n",
    "\n",
    "from naive_bayes_functions import *"
   ]
  },
  {
   "cell_type": "markdown",
   "metadata": {},
   "source": [
    "__Validación simple__: Este metodo de particionado divide los datos en 2 partes dada la proporción de datos test y train. Antes de la división los ids de las filas están mezcladas de manera aleatoria para asegurarse que los datos en train and test no esten en el mismo orden que  en el conjunto de datos original (por si están ordenados por clases o algún atributo.\n",
    "\n",
    "__Ventajas__: Implementación simple y rápida\n",
    "\n",
    "__Desventajas__: Si el conjunto de datos es pequeño quedan pocos datos para la validación. "
   ]
  },
  {
   "cell_type": "code",
   "execution_count": 2,
   "metadata": {},
   "outputs": [
    {
     "name": "stdout",
     "output_type": "stream",
     "text": [
      "Test:  [2, 5, 11, 15, 18, 27, 28, 31, 35, 37, 38, 40, 42, 45, 48, 49, 50, 51, 56, 58, 63, 65, 67, 69, 72, 73, 75, 76, 77, 80, 82, 88, 92, 106, 110, 111, 112, 116, 118, 119, 120, 121, 122, 123, 125, 129, 132, 133, 135, 137, 141, 144, 151, 154, 155, 156, 160, 161, 167, 170, 171, 185, 186, 191, 194, 198, 202, 205, 207, 222, 223, 224, 229, 231, 232, 233, 243, 245, 247, 254, 259, 261, 267, 272, 275, 279, 285, 286, 287, 289, 290, 293, 294, 301, 306, 307, 311, 312, 313, 315, 317, 318, 319, 321, 324, 325, 326, 333, 334, 338, 344, 346, 348, 350, 353, 354, 356, 364, 367, 368, 375, 378, 379, 388, 389, 391, 393, 396, 399, 401, 403, 410, 412, 418, 422, 424, 425, 426, 428, 431, 433, 434, 436, 438, 440, 441, 450, 458, 460, 463, 465, 480, 481, 492, 493, 495, 496, 498, 500, 508, 510, 514, 519, 522, 527, 532, 534, 536, 540, 541, 543, 544, 547, 548, 553, 555, 558, 559, 562, 566, 569, 574, 575, 578, 579, 580, 582, 583, 591, 594, 596, 597, 599, 600, 601, 611, 612, 614, 622, 623, 627, 631, 646, 647, 663, 665, 672, 677, 680, 682, 684, 691, 693, 696, 699, 705, 718, 720, 724, 727, 730, 731, 736, 737, 738, 739, 743, 744, 749, 753, 754, 756, 757, 759, 761, 763, 765, 770, 771, 772, 773, 775, 776, 790, 791, 798, 803, 808, 814, 823, 824, 830, 832, 839, 840, 847, 848, 849, 850, 857, 859, 861, 862, 863, 864, 876, 877, 879, 882, 884, 887, 890, 898, 902, 909, 916, 920, 926, 929, 931, 935, 936, 938, 949, 950, 954, 956]\n"
     ]
    }
   ],
   "source": [
    "dataset=Datos('tic-tac-toe.data')\n",
    "estrategia=EstrategiaParticionado.ValidacionSimple(0.3, 1)\n",
    "# 0.3 = test_proportion, 1 = n_iters\n",
    "parts = estrategia.creaParticiones(dataset.datos)\n",
    "\n",
    "print(\"Test: \", parts[0].indicesTest)"
   ]
  },
  {
   "cell_type": "markdown",
   "metadata": {},
   "source": [
    "Para extraer los datos se utiliza el metodo extraeDatos:"
   ]
  },
  {
   "cell_type": "code",
   "execution_count": 3,
   "metadata": {},
   "outputs": [
    {
     "name": "stdout",
     "output_type": "stream",
     "text": [
      "[['x' 'x' 'x' ... 'o' 'x' 'positive']\n",
      " ['x' 'x' 'x' ... 'b' 'o' 'positive']\n",
      " ['x' 'x' 'x' ... 'o' 'o' 'positive']\n",
      " ...\n",
      " ['x' 'o' 'o' ... 'x' 'o' 'negative']\n",
      " ['o' 'x' 'o' ... 'o' 'x' 'negative']\n",
      " ['o' 'x' 'o' ... 'o' 'x' 'negative']]\n"
     ]
    }
   ],
   "source": [
    "train=dataset.extraeDatos(parts[0].indicesTrain)\n",
    "test=dataset.extraeDatos(parts[0].indicesTest)\n",
    "print(test)"
   ]
  },
  {
   "cell_type": "markdown",
   "metadata": {},
   "source": [
    "__Validación cruzada__: En este tipo de validación el conjunto de datos de divide de manera aleatoria en N grupos, y uno de los grupos se utiliza para test y otros N-1 para train. De esta manera generamos N diferentes subconjuntos de train/test.\n",
    "![alt text](K-fold_cross_validation.jpg \"K-Fold Cross Validation\")\n",
    "\n",
    "__Ventajas__:Se utiliza el conjunto completo de datos para entrenamiento y para la validación y se puede generar más metricas para ver si el modelo el robusto.\n",
    "\n",
    "__Desventajas__: El algoritmo hay que repetir N veces, lo que conlleva mayor coste computacional."
   ]
  },
  {
   "cell_type": "code",
   "execution_count": 4,
   "metadata": {},
   "outputs": [
    {
     "name": "stdout",
     "output_type": "stream",
     "text": [
      "Test ids con segundo grupo asignado como test y train el resto:\n",
      "[2, 8, 11, 12, 15, 18, 19, 21, 22, 24, 26, 30, 42, 46, 48, 52, 60, 62, 63, 64, 65, 66, 70, 80, 98, 105, 106, 107, 116, 120, 126, 135, 137, 140, 141, 142, 147, 155, 157, 163, 165, 166, 170, 171, 172, 175, 177, 178, 182, 194, 195, 198, 202, 203, 205, 212, 215, 220, 225, 226, 229, 237, 239, 240, 241, 244, 247, 252, 254, 256, 257, 258, 261, 263, 264, 269, 274, 276, 282, 284, 286, 290, 302, 305, 307, 316, 318, 321, 324, 326, 328, 342, 343, 344, 346, 358, 364, 365, 367, 368, 376, 381, 384, 386, 388, 389, 390, 391, 392, 393, 395, 403, 405, 409, 419, 425, 431, 432, 440, 443, 446, 452, 461, 462, 463, 464, 474, 479, 480, 487, 497, 510, 511, 517, 525, 530, 534, 541, 550, 552, 553, 557, 558, 561, 563, 567, 574, 575, 581, 585, 587, 593, 594, 599, 606, 613, 620, 621, 622, 632, 633, 635, 636, 644, 654, 665, 666, 671, 675, 680, 685, 698, 700, 703, 706, 708, 715, 718, 719, 725, 732, 735, 742, 747, 748, 752, 755, 757, 761, 762, 769, 771, 775, 776, 781, 785, 788, 789, 790, 793, 796, 806, 811, 812, 815, 816, 825, 834, 838, 846, 847, 857, 861, 863, 867, 870, 871, 872, 874, 878, 879, 882, 892, 902, 907, 909, 916, 917, 918, 919, 920, 922, 924, 936, 938, 942, 944, 947, 949, 957]\n"
     ]
    }
   ],
   "source": [
    "estrategia=EstrategiaParticionado.ValidacionCruzada(4)\n",
    "# 4 = n_partitions\n",
    "parts = estrategia.creaParticiones(dataset.datos)\n",
    "print(\"Test ids con segundo grupo asignado como test y train el resto:\")\n",
    "print(parts[1].indicesTest)"
   ]
  },
  {
   "cell_type": "markdown",
   "metadata": {},
   "source": [
    "## Apartado 2: Naive-Bayes\n",
    "Tabla con los resultados de la ejecución para los conjuntos de datos analizados (tic-tac-toe y german). Considerar los dos tipos de particionado.\n",
    "Los resultados se refieren a las tasas de error/acierto y deben incluirse tanto con la corrección de Laplace como sin ella. Se debe incluir tanto el promedio de error para las diferentes particiones como su desviación típica. Es importante mostrar todos los resultados agrupados en una tabla para facilitar su evaluación.\n",
    "Breve análisis de los resultados anteriores."
   ]
  },
  {
   "cell_type": "code",
   "execution_count": 5,
   "metadata": {},
   "outputs": [
    {
     "name": "stdout",
     "output_type": "stream",
     "text": [
      "Validacion simple:\n",
      "Tic tac toe error (sin laplace) 0.3170731707317073\n",
      "desviacion 0.0\n",
      "\n",
      "Tic tac toe error (con laplace) 0.29965156794425085\n",
      "desviacion 0.0\n",
      "\n",
      "German error (sin laplace) 0.25666666666666665\n",
      "desviacion 0.0\n",
      "\n",
      "German error (con laplace) 0.27\n",
      "desviacion 0.0\n",
      "\n"
     ]
    }
   ],
   "source": [
    "print(\"Validacion simple:\")\n",
    "tictac=Datos('tic-tac-toe.data')\n",
    "#test_proportion = 0.3, n_iters = 1\n",
    "estrategia=EstrategiaParticionado.ValidacionSimple(0.3, 1)\n",
    "clasificador=Clasificador.ClasificadorNaiveBayes(False)\n",
    "errores=clasificador.validacion(estrategia,tictac,clasificador)\n",
    "print(\"Tic tac toe error (sin laplace)\", errores[0])\n",
    "print(\"desviacion\", errores[1])\n",
    "print()\n",
    "estrategia=EstrategiaParticionado.ValidacionSimple(0.3, 1)\n",
    "clasificador=Clasificador.ClasificadorNaiveBayes(True)\n",
    "errores=clasificador.validacion(estrategia,tictac,clasificador)\n",
    "print(\"Tic tac toe error (con laplace)\", errores[0])\n",
    "print(\"desviacion\", errores[1])\n",
    "print()\n",
    "\n",
    "german=Datos('german.data') \n",
    "estrategia=EstrategiaParticionado.ValidacionSimple(0.3, 1)\n",
    "clasificador=Clasificador.ClasificadorNaiveBayes(False)\n",
    "errores=clasificador.validacion(estrategia,german,clasificador)\n",
    "print(\"German error (sin laplace)\", errores[0])\n",
    "print(\"desviacion\", errores[1])\n",
    "print()\n",
    "estrategia=EstrategiaParticionado.ValidacionSimple(0.3, 1)\n",
    "clasificador=Clasificador.ClasificadorNaiveBayes(True)\n",
    "errores=clasificador.validacion(estrategia,german,clasificador)\n",
    "print(\"German error (con laplace)\", errores[0])\n",
    "print(\"desviacion\", errores[1])\n",
    "print()"
   ]
  },
  {
   "cell_type": "code",
   "execution_count": 6,
   "metadata": {
    "scrolled": true
   },
   "outputs": [
    {
     "name": "stdout",
     "output_type": "stream",
     "text": [
      "Validacion cruzada:\n",
      "Tic-tac-toe error (sin laplace) 0.29959466527196654\n",
      "desviacion 0.031044297381814075\n",
      "\n",
      "Tic-tac-toe error (con laplace) 0.27973762203626223\n",
      "desviacion 0.009440874576857225\n",
      "\n",
      "german error (sin laplace) 0.23299999999999998\n",
      "desviacion 0.009949874371066198\n",
      "\n",
      "german error (con laplace) 0.23099999999999998\n",
      "desviacion 0.018841443681416766\n",
      "\n"
     ]
    }
   ],
   "source": [
    "print(\"Validacion cruzada:\")\n",
    "#n_partitions = 4\n",
    "estrategia=EstrategiaParticionado.ValidacionCruzada(4)\n",
    "clasificador=Clasificador.ClasificadorNaiveBayes(False)\n",
    "errores=clasificador.validacion(estrategia,tictac,clasificador)\n",
    "print(\"Tic-tac-toe error (sin laplace)\", errores[0])\n",
    "print(\"desviacion\", errores[1])\n",
    "print()\n",
    "estrategia=EstrategiaParticionado.ValidacionCruzada(4)\n",
    "clasificador=Clasificador.ClasificadorNaiveBayes(True)\n",
    "errores=clasificador.validacion(estrategia,tictac,clasificador)\n",
    "print(\"Tic-tac-toe error (con laplace)\", errores[0])\n",
    "print(\"desviacion\", errores[1])\n",
    "print()\n",
    "\n",
    "estrategia=EstrategiaParticionado.ValidacionCruzada(4)\n",
    "clasificador=Clasificador.ClasificadorNaiveBayes(False)\n",
    "errores=clasificador.validacion(estrategia,german,clasificador)\n",
    "print(\"german error (sin laplace)\", errores[0])\n",
    "print(\"desviacion\", errores[1])\n",
    "print()\n",
    "estrategia=EstrategiaParticionado.ValidacionCruzada(4)\n",
    "clasificador=Clasificador.ClasificadorNaiveBayes(True)\n",
    "errores=clasificador.validacion(estrategia,german,clasificador)\n",
    "print(\"german error (con laplace)\", errores[0])\n",
    "print(\"desviacion\", errores[1])\n",
    "print()"
   ]
  },
  {
   "cell_type": "markdown",
   "metadata": {},
   "source": [
    "__Error con validación simple__\n",
    "\n",
    "|Dataset|tic-tac-toe|german|\n",
    "|-------|-----------|------|\n",
    "|Error (Sin Laplace)| 0.317| 0.257|\n",
    "|Error (Laplace)| 0.3| 0.27|\n",
    "\n",
    "__Error con validación cruzada__\n",
    "\n",
    "|Dataset|tic-tac-toe|german|\n",
    "|-------|-----------|------|\n",
    "|Mean Error| 0.29 | 0.23|\n",
    "|Std| 0.02| 0.013|\n",
    "\n",
    "\n",
    "El error aplicando y no aplicando Laplace para estos conjuntos de datos es parecido, no influye mucho a la precisión de clasificador. \n",
    "El error de validación cruzada es más bajo porque hemos utilzado más datos para entrenamiento en cada de sus iteraciones (75% vs 70% en validación simple).\n",
    "La desviación de la validación simple es 0 porque solo hacemos partición de los datos, por lo que solo hay un valor de error."
   ]
  },
  {
   "cell_type": "markdown",
   "metadata": {},
   "source": [
    "## Apartado 3: Scikit-Learn\n",
    "Incluir los mismos resultados que en el apartado 2 pero usando los métodos del paquete scikit-learn. Comparar y analizar los resultados."
   ]
  },
  {
   "cell_type": "code",
   "execution_count": 7,
   "metadata": {},
   "outputs": [
    {
     "name": "stdout",
     "output_type": "stream",
     "text": [
      "Error validación simple:\n",
      "Bayes gaussiano:\n",
      "Tic tac toe: 0.25435540069686413\n",
      "German: 0.29333333333333333\n",
      "Bayes multinomial:\n",
      "Tic tac toe: 0.31010452961672474\n",
      "German: 0.29\n"
     ]
    }
   ],
   "source": [
    "#bayes type = gaussian or multinomial\n",
    "def error_sklearn_bayes(train, test, bayes_type):\n",
    "    #Preparando los datos conviertiendo datos categoricos a numericos\n",
    "    le = preprocessing.LabelEncoder()\n",
    "\n",
    "    train_a=np.empty([train.shape[0], train.shape[1]])\n",
    "    test_a=np.empty([test.shape[0], test.shape[1]])\n",
    "    for i in range(train.shape[1]):\n",
    "        train_column=train[:,i]\n",
    "        train_column=le.fit_transform(train_column)\n",
    "        train_a[:,i]=np.transpose(train_column)\n",
    "    for i in range(test.shape[1]):    \n",
    "        test_column=test[:,i]\n",
    "        test_column=le.fit_transform(test_column)\n",
    "        test_a[:,i]=np.transpose(test_column)\n",
    "\n",
    "\n",
    "    input_train=[]\n",
    "    for row in range(train_a.shape[0]):\n",
    "        input_train.append(train_a[row,0:-1])\n",
    "    classes_encoded=train_a[:,-1]\n",
    "\n",
    "    validation=[]\n",
    "    real_class=[]\n",
    "    for row in range(test_a.shape[0]):\n",
    "        validation.append(test_a[row,0:-1])\n",
    "        real_class.append(test_a[row,-1])\n",
    "\n",
    "\n",
    "    if bayes_type==\"gaussian\":\n",
    "        clf = GaussianNB()\n",
    "    else:\n",
    "        clf = MultinomialNB()\n",
    "            \n",
    "\n",
    "\n",
    "    clf.fit(input_train, classes_encoded)\n",
    "\n",
    "    error=0\n",
    "    for r in range(len(validation)):\n",
    "        predicted=clf.predict([validation[r]])\n",
    "        if predicted!=real_class[r]:\n",
    "            error+=1\n",
    "    error=error/len(validation)\n",
    "    #print(\"Error validación simple:\", error)\n",
    "    #print(\"Fit score:\", clf.score(input_array, classes_encoded))\n",
    "    return(error)\n",
    "\n",
    "tictac=Datos('tic-tac-toe.data') \n",
    "estrategia=EstrategiaParticionado.ValidacionSimple(0.3, 1)\n",
    "# 0.3 = test_proportion, 1 = n_iters\n",
    "parts = estrategia.creaParticiones(tictac.datos)\n",
    "train_tic=tictac.extraeDatos(parts[0].indicesTrain)\n",
    "test_tic=tictac.extraeDatos(parts[0].indicesTest)\n",
    "\n",
    "german=Datos('german.data') \n",
    "estrategia=EstrategiaParticionado.ValidacionSimple(0.3, 1)\n",
    "# 0.3 = test_proportion, 1 = n_iters\n",
    "parts = estrategia.creaParticiones(german.datos)\n",
    "train_german=german.extraeDatos(parts[0].indicesTrain)\n",
    "test_german=german.extraeDatos(parts[0].indicesTest)\n",
    "\n",
    "\n",
    "print(\"Error validación simple:\")\n",
    "print(\"Bayes gaussiano:\")\n",
    "print(\"Tic tac toe:\", error_sklearn_bayes(train_tic, test_tic, \"gaussian\"))\n",
    "print(\"German:\", error_sklearn_bayes(train_german, test_german , \"gaussian\"))\n",
    "print(\"Bayes multinomial:\")\n",
    "print(\"Tic tac toe:\", error_sklearn_bayes(train_tic, test_tic, \"multinomial\"))\n",
    "print(\"German:\", error_sklearn_bayes(train_german, test_german , \"multinomial\"))"
   ]
  },
  {
   "cell_type": "code",
   "execution_count": 8,
   "metadata": {},
   "outputs": [
    {
     "name": "stdout",
     "output_type": "stream",
     "text": [
      "Error validación cruzada:\n",
      "Bayes gaussiano\n",
      "Tic-tac-toe [0.2833333333333333, 0.24166666666666667, 0.2928870292887029, 0.29707112970711297] Mean:  0.278739539748954 Std: 0.021975551806170016\n",
      "German [0.244, 0.284, 0.232, 0.572] Mean:  0.33299999999999996 Std: 0.13932336487466843\n",
      "Bayes multinomial\n",
      "Tic-tac-toe [0.3333333333333333, 0.3, 0.3891213389121339, 0.3472803347280335] Mean:  0.3424337517433752 Std: 0.03196349896571028\n",
      "German [0.296, 0.368, 0.308, 0.296] Mean:  0.317 Std: 0.029849623113198602\n"
     ]
    }
   ],
   "source": [
    "##Cruzada\n",
    "partitions=4\n",
    "#Tic tac\n",
    "#line_ids_tic=validacion_cruzada(rows_tictac,partitions)\n",
    "error_cross_tictac_g=[]\n",
    "error_cross_tictac_m=[]\n",
    "\n",
    "tictac=Datos('tic-tac-toe.data') \n",
    "estrategia=EstrategiaParticionado.ValidacionCruzada(partitions)\n",
    "parts = estrategia.creaParticiones(tictac.datos)\n",
    "\n",
    "for i in range(partitions):\n",
    "    train=tictac.extraeDatos(parts[i].indicesTrain)\n",
    "    test=tictac.extraeDatos(parts[i].indicesTest)\n",
    "    error_cross_tictac_g.append(error_sklearn_bayes(train, test, \"gaussian\"))\n",
    "    error_cross_tictac_m.append(error_sklearn_bayes(train, test, \"multinomial\"))\n",
    "\n",
    "#line_ids_german=validacion_cruzada(rows_german,partitions)\n",
    "error_cross_german_g=[]\n",
    "error_cross_german_m=[]\n",
    "\n",
    "german=Datos('german.data') \n",
    "estrategia=EstrategiaParticionado.ValidacionCruzada(partitions)\n",
    "parts = estrategia.creaParticiones(german.datos)\n",
    "\n",
    "for i in range(partitions):\n",
    "    train=german.extraeDatos(parts[i].indicesTest)\n",
    "    test=german.extraeDatos(parts[i].indicesTest)\n",
    "    error_cross_german_g.append(error_sklearn_bayes(train, test,  \"gaussian\"))\n",
    "    error_cross_german_m.append(error_sklearn_bayes(train, test,  \"multinomial\"))\n",
    "    \n",
    "print(\"Error validación cruzada:\")\n",
    "print(\"Bayes gaussiano\")\n",
    "print(\"Tic-tac-toe\", error_cross_tictac_g, \"Mean: \", np.mean(error_cross_tictac_g), \"Std:\", np.std(error_cross_tictac_g))\n",
    "print(\"German\", error_cross_german_g, \"Mean: \", np.mean(error_cross_german_g), \"Std:\", np.std(error_cross_german_g))\n",
    "\n",
    "print(\"Bayes multinomial\")\n",
    "print(\"Tic-tac-toe\", error_cross_tictac_m, \"Mean: \", np.mean(error_cross_tictac_m), \"Std:\", np.std(error_cross_tictac_m))\n",
    "print(\"German\", error_cross_german_m, \"Mean: \", np.mean(error_cross_german_m), \"Std:\", np.std(error_cross_german_m))\n"
   ]
  },
  {
   "cell_type": "markdown",
   "metadata": {},
   "source": [
    "__Resultados:__\n",
    "\n",
    "\n",
    "__Error con validación simple__\n",
    "\n",
    "\n",
    "|Dataset|tic-tac-toe|german|\n",
    "|-------|-----------|------|\n",
    "|Clasificador de práctica | 0.3| 0.27|\n",
    "|SKlearn Gaussian|0.254|0.293|\n",
    "|SKlearn multinomial|0.31|0.29|\n",
    "\n",
    "\n",
    "__Error con validación cruzada__\n",
    "\n",
    "|Dataset|tic-tac-toe|german|\n",
    "|-------|-----------|------|\n",
    "||Error Promedio||\n",
    "|Clasificador de práctica| 0.29 | 0.23|\n",
    "|SKlearn Gaussian| 0.278 | 0.333|\n",
    "|SKlearn multinomial| 0.342 | 0.317|\n",
    "||Desviación estandar||\n",
    "|Clasificador de práctica| 0.02| 0.013|\n",
    "|SKlearn Gaussian| 0.022| 0.139|\n",
    "|SKlearn multinomial| 0.032| 0.0298|\n"
   ]
  },
  {
   "cell_type": "markdown",
   "metadata": {},
   "source": [
    "## Apartado 4: Evaluación de hipótesis mediante Análisis ROC\n",
    "__Matriz de confusión__"
   ]
  },
  {
   "cell_type": "code",
   "execution_count": 9,
   "metadata": {},
   "outputs": [
    {
     "name": "stdout",
     "output_type": "stream",
     "text": [
      "Confusion matrix\n",
      "Tic tac toe:\n",
      "[[163.  52.]\n",
      " [ 31.  41.]]\n",
      "TPR: 0.84 FNR:  0.16 FPR:  0.56 TNR:  0.44\n",
      "German:\n",
      "[[168.  46.]\n",
      " [ 43.  43.]]\n",
      "TPR: 0.8 FNR:  0.2 FPR:  0.52 TNR:  0.48\n"
     ]
    }
   ],
   "source": [
    "#positive and negative are the classes names that need to be compared\n",
    "def confusion_mx(dataset, train, test, laplace, positive, negative):\n",
    "    confusion_matrix=np.zeros([2,2])\n",
    "    for r in range(test.shape[0]):\n",
    "        predicted=naive_bayes(dataset, train, test[r][0:-1], laplace)\n",
    "        real=test[r][-1]\n",
    "        if predicted==positive:\n",
    "            if real==positive:\n",
    "                confusion_matrix[0,0]+=1\n",
    "            else: \n",
    "                confusion_matrix[0,1]+=1\n",
    "        else:\n",
    "            if real==negative:\n",
    "                confusion_matrix[1,1]+=1\n",
    "            else: \n",
    "                confusion_matrix[1,0]+=1\n",
    "\n",
    "    return(confusion_matrix)\n",
    "\n",
    "tictac=Datos('tic-tac-toe.data') \n",
    "estrategia=EstrategiaParticionado.ValidacionSimple(0.3, 1)\n",
    "# 0.3 = test_proportion, 1 = n_iters\n",
    "parts = estrategia.creaParticiones(tictac.datos)\n",
    "train_tic=tictac.extraeDatos(parts[0].indicesTrain)\n",
    "test_tic=tictac.extraeDatos(parts[0].indicesTest)\n",
    "\n",
    "confusion_matrix_tic=confusion_mx(tictac, train_tic, test_tic, True, \"positive\", \"negative\")\n",
    "print(\"Confusion matrix\")\n",
    "print(\"Tic tac toe:\")\n",
    "print(confusion_matrix_tic)\n",
    "tp=confusion_matrix_tic[0,0]\n",
    "fn=confusion_matrix_tic[1,0]\n",
    "fp=confusion_matrix_tic[0,1]\n",
    "tn=confusion_matrix_tic[1,1]\n",
    "\n",
    "tpr=round(tp/(tp+fn),2)\n",
    "fnr=round(fn/(tp+fn),2)\n",
    "fpr=round(fp/(fp+tn),2)\n",
    "tnr=round(tn/(fp+tn),2)\n",
    "print(\"TPR:\", tpr, \"FNR: \", fnr, \"FPR: \", fpr, \"TNR: \", tnr)\n",
    "\n",
    "german=Datos('german.data') \n",
    "estrategia=EstrategiaParticionado.ValidacionSimple(0.3, 1)\n",
    "# 0.3 = test_proportion, 1 = n_iters\n",
    "parts = estrategia.creaParticiones(german.datos)\n",
    "train_german=german.extraeDatos(parts[0].indicesTrain)\n",
    "test_german=german.extraeDatos(parts[0].indicesTest)\n",
    "\n",
    "confusion_matrix_german=confusion_mx(german, train_german, test_german, True, 1, 2)\n",
    "print(\"German:\")\n",
    "print(confusion_matrix_german)\n",
    "tp=confusion_matrix_german[0,0]\n",
    "fn=confusion_matrix_german[1,0]\n",
    "fp=confusion_matrix_german[0,1]\n",
    "tn=confusion_matrix_german[1,1]\n",
    "\n",
    "tpr=round(tp/(tp+fn),2)\n",
    "fnr=round(fn/(tp+fn),2)\n",
    "fpr=round(fp/(fp+tn),2)\n",
    "tnr=round(tn/(fp+tn),2)\n",
    "print(\"TPR:\", tpr, \"FNR: \", fnr, \"FPR: \", fpr, \"TNR: \", tnr)"
   ]
  },
  {
   "cell_type": "markdown",
   "metadata": {},
   "source": [
    "__Matriz de confusión:__\n",
    "\n",
    "Tic tac toe\n",
    "\n",
    "||Real||\n",
    "|----|----|----|\n",
    "|Clase|Positivo|Negativo|\n",
    "|Positivo|163|52|\n",
    "|Negativo|31|41|\n",
    "\n",
    "\n",
    "|TPR|FNR|FPR|TNR|\n",
    "|---|---|---|---|\n",
    "|0.84|0.16|0.56|0.44|\n",
    "\n",
    "\n",
    "German\n",
    "\n",
    "||Real||\n",
    "|----|----|----|\n",
    "|Clase|1|2|\n",
    "|1|168|46|\n",
    "|2|43|43|\n",
    "\n",
    "|TPR|FNR|FPR|TNR|\n",
    "|---|---|---|---|\n",
    "|0.8|0.2|0.52|0.48|\n",
    "\n",
    "\n",
    "En ambos conjuntos de datos el clasificador tiene un ratio elevado para falsos positivos, tiene errores elevador en clasificación de clase 2 (negativos en tic-tac-toe y 2 en german)."
   ]
  },
  {
   "cell_type": "markdown",
   "metadata": {},
   "source": [
    "__Curvas ROC__"
   ]
  },
  {
   "cell_type": "code",
   "execution_count": 10,
   "metadata": {
    "scrolled": true
   },
   "outputs": [
    {
     "name": "stdout",
     "output_type": "stream",
     "text": [
      "[0.         0.         0.00606061 0.01212121 0.01818182 0.02424242\n",
      " 0.02424242 0.03030303 0.03636364 0.04242424 0.04848485 0.05454545\n",
      " 0.06060606 0.06666667 0.07272727 0.07878788 0.08484848 0.08484848\n",
      " 0.09090909 0.0969697  0.1030303  0.10909091 0.11515152 0.12121212\n",
      " 0.12727273 0.13333333 0.13333333 0.13939394 0.14545455 0.15151515\n",
      " 0.15757576 0.16363636 0.16969697 0.17575758 0.18181818 0.18787879\n",
      " 0.19393939 0.2        0.20606061 0.21212121 0.21818182 0.22424242\n",
      " 0.23030303 0.23636364 0.24242424 0.24848485 0.25454545 0.26060606\n",
      " 0.26666667 0.27272727 0.27878788 0.27878788 0.28484848 0.29090909\n",
      " 0.2969697  0.3030303  0.30909091 0.31515152 0.32121212 0.32727273\n",
      " 0.33333333 0.33939394 0.34545455 0.35151515 0.35757576 0.36363636\n",
      " 0.36969697 0.37575758 0.38181818 0.38787879 0.39393939 0.4\n",
      " 0.4        0.40606061 0.41212121 0.41818182 0.42424242 0.43030303\n",
      " 0.43636364 0.44242424 0.44848485 0.45454545 0.46060606 0.46666667\n",
      " 0.47272727 0.47878788 0.48484848 0.49090909 0.4969697  0.5030303\n",
      " 0.50909091 0.51515152 0.52121212 0.52727273 0.53333333 0.53939394\n",
      " 0.54545455 0.55151515 0.55757576 0.55757576 0.56363636 0.56363636\n",
      " 0.56969697 0.57575758 0.58181818 0.58787879 0.59393939 0.6\n",
      " 0.6        0.60606061 0.61212121 0.61818182 0.62424242 0.63030303\n",
      " 0.63636364 0.63636364 0.64242424 0.64848485 0.65454545 0.66060606\n",
      " 0.66666667 0.67272727 0.67878788 0.68484848 0.69090909 0.6969697\n",
      " 0.7030303  0.70909091 0.71515152 0.72121212 0.72121212 0.72727273\n",
      " 0.73333333 0.73939394 0.74545455 0.75151515 0.75757576 0.76363636\n",
      " 0.76969697 0.77575758 0.78181818 0.78787879 0.79393939 0.8\n",
      " 0.8        0.80606061 0.81212121 0.81818182 0.81818182 0.82424242\n",
      " 0.83030303 0.83636364 0.84242424 0.84242424 0.84848485 0.85454545\n",
      " 0.86060606 0.86666667 0.87272727 0.87878788 0.88484848 0.88484848\n",
      " 0.89090909 0.8969697  0.9030303  0.90909091 0.91515152 0.92121212\n",
      " 0.92727273 0.93333333 0.93939394 0.94545455 0.95151515 0.95757576\n",
      " 0.96363636 0.96969697 0.97575758 0.98181818 0.98787879 0.99393939\n",
      " 0.99393939 1.         1.         1.         1.         1.\n",
      " 1.         1.         1.         1.         1.         1.\n",
      " 1.         1.         1.         1.         1.         1.\n",
      " 1.         1.         1.         1.         1.         1.\n",
      " 1.         1.         1.         1.         1.         1.\n",
      " 1.         1.         1.         1.         1.         1.\n",
      " 1.         1.         1.         1.         1.         1.\n",
      " 1.         1.         1.         1.         1.         1.\n",
      " 1.         1.         1.         1.         1.         1.\n",
      " 1.         1.         1.         1.         1.         1.\n",
      " 1.         1.         1.         1.         1.         1.\n",
      " 1.         1.         1.         1.         1.         1.\n",
      " 1.         1.         1.         1.         1.         1.\n",
      " 1.         1.         1.         1.         1.         1.\n",
      " 1.         1.         1.         1.         1.         1.\n",
      " 1.         1.         1.         1.         1.         1.\n",
      " 1.         1.         1.         1.         1.         1.\n",
      " 1.         1.         1.         1.         1.        ]\n"
     ]
    },
    {
     "data": {
      "text/plain": [
       "<matplotlib.legend.Legend at 0x7f706dd627b8>"
      ]
     },
     "execution_count": 10,
     "metadata": {},
     "output_type": "execute_result"
    },
    {
     "data": {
      "image/png": "[encoded data removed]",
      "text/plain": [
       "<Figure size 432x288 with 1 Axes>"
      ]
     },
     "metadata": {
      "needs_background": "light"
     },
     "output_type": "display_data"
    }
   ],
   "source": [
    "import matplotlib.pyplot as plt\n",
    "def roc(dataset, train, test, laplace, positive, negative):\n",
    "    p_counts=[]\n",
    "    n_counts=[]\n",
    "    p=0\n",
    "    n=0\n",
    "    total=test.shape[0]\n",
    "    for r in range(total):\n",
    "        predicted=naive_bayes(dataset, train, test[r][0:-1], laplace)\n",
    "        real=test[r][-1]\n",
    "        if (predicted==positive) and (real==positive):\n",
    "            p+=1\n",
    "        elif (predicted==negative) and (real==positive):\n",
    "            n+=1\n",
    "        p_counts.append(p)\n",
    "        n_counts.append(n)\n",
    "    tpr=np.array(p_counts)/p\n",
    "    fpr=np.array(n_counts)/n\n",
    "    return(tpr, fpr)\n",
    "\n",
    "tictac=Datos('tic-tac-toe.data') \n",
    "estrategia=EstrategiaParticionado.ValidacionSimple(0.3, 1)\n",
    "# 0.3 = test_proportion, 1 = n_iters\n",
    "parts = estrategia.creaParticiones(tictac.datos)\n",
    "train_tic=tictac.extraeDatos(parts[0].indicesTrain)\n",
    "test_tic=tictac.extraeDatos(parts[0].indicesTest)\n",
    "\n",
    "german=Datos('german.data') \n",
    "estrategia=EstrategiaParticionado.ValidacionSimple(0.3, 1)\n",
    "# 0.3 = test_proportion, 1 = n_iters\n",
    "parts = estrategia.creaParticiones(german.datos)\n",
    "train_german=german.extraeDatos(parts[0].indicesTrain)\n",
    "test_german=german.extraeDatos(parts[0].indicesTest)\n",
    "\n",
    "tpr_tic, fpr_tic = roc(tictac, train_tic, test_tic, True, \"positive\", \"negative\")\n",
    "tpr_german, fpr_german = roc(german, train_german, test_german, True, 1, 2)\n",
    "print(tpr_tic)\n",
    "plt.figure\n",
    "plt.plot(fpr_tic, tpr_tic, label=\"Tic tac toe\")\n",
    "plt.plot(fpr_german, tpr_german, label=\"German\")\n",
    "plt.title(\"Curvas ROC para clasificador de la práctica\")\n",
    "plt.xlabel(\"FPR\")\n",
    "plt.ylabel(\"TPR\")\n",
    "plt.legend()"
   ]
  },
  {
   "cell_type": "markdown",
   "metadata": {},
   "source": []
  }
 ],
 "metadata": {
  "kernelspec": {
   "display_name": "Python 3",
   "language": "python",
   "name": "python3"
  },
  "language_info": {
   "codemirror_mode": {
    "name": "ipython",
    "version": 3
   },
   "file_extension": ".py",
   "mimetype": "text/x-python",
   "name": "python",
   "nbconvert_exporter": "python",
   "pygments_lexer": "ipython3",
   "version": "3.6.11"
  }
 },
 "nbformat": 4,
 "nbformat_minor": 2
}
