{
 "cells": [
  {
   "cell_type": "markdown",
   "metadata": {},
   "source": [
    "# Practica 3. Algorimos genéticos\n",
    "\n",
    "#### Evgeniia Makarova\n",
    "#### Alejandro Pereña López\n"
   ]
  },
  {
   "cell_type": "markdown",
   "metadata": {},
   "source": [
    "## Apartado 1.\n",
    "Breve descripción de algunos detalles de la implementación. \n",
    "\n",
    "__Generación de la población inicial con especial indicación del número de reglas por individuo consideradas__\n",
    "Para generar la población primero determinamos cuál será el tamaño de reglas de un individuo, para esto sumamos el número de posibles valores de cada atributo y de clase. Después generamos una cadena de “0” y “1” aleatorios de este tamaño.\n",
    "Como el resultado obtenemos individuos de este formato 10010001101101011010101, donde 1 representa que cierto valor de atributo está presente en la regla.\n",
    "\n",
    "__Fitness de individuos__\n",
    "El fitness de individuos no se calcula como el numero total de aciertos porque en este caso la mejor regla suele elegir todos los atributos y predecir la clase con mayor probabilidad priori. Para generar una regla algo más afinada (lo suyo sería utilizar varias reglas en forma de árbol) calculamos el porcentaje de aciertos de clase por la cantidad de datos que corresponden a este filtrado más una constante por la proporción de los datos filtrados por la regla de los datos totales.\n",
    "\n",
    "__Mecanismo de cruce implementado__\n",
    "Se utiliza el cruce en un punto para preservar la secuencia de los valores de atributos en la regla. \n",
    "Mecanismo de mutación implementado \n",
    "Bit flip, cambio de valor de una posición en la regla según la determinada tasa de mutación. \n",
    "\n",
    "__Mecanismo de clasificación implementado__\n",
    "Igual que en el cálculo de fitness se utiliza operación binaria OR para comparar si los datos de test coinciden con la regla (para ello primero se codifican de la misma manera que para calcular el fitness con los datos de entrenamiento). Los datos que coinciden con la regla serán clasificados con la clase programada por la regla con mejor fitness de la población final, sino el método devuelve la clase contraria. Aquí suponemos que tenemos problema de clasificación binaria. \n"
   ]
  },
  {
   "cell_type": "code",
   "execution_count": 1,
   "metadata": {},
   "outputs": [
    {
     "name": "stdout",
     "output_type": "stream",
     "text": [
      "Titanic atributes\n",
      "Pclass [1 2 3]\n",
      "Sex ['female' 'male']\n",
      "Age [ 0  1  2  3  4  5  6  7  8  9 10 11 12 13 14 15]\n",
      "Class [0 1]\n",
      "\n",
      "Tic-tac-toe atributes\n",
      "TLeftSq ['b' 'o' 'x']\n",
      "TMidSq ['b' 'o' 'x']\n",
      "TRightSq ['b' 'o' 'x']\n",
      "MLeftSq ['b' 'o' 'x']\n",
      "MMidSq ['b' 'o' 'x']\n",
      "MRightSq ['b' 'o' 'x']\n",
      "BLeftSq ['b' 'o' 'x']\n",
      "BMidSq ['b' 'o' 'x']\n",
      "BRightSq ['b' 'o' 'x']\n",
      "Class ['negative' 'positive']\n"
     ]
    }
   ],
   "source": [
    "import numpy as np\n",
    "import pandas as pd\n",
    "\n",
    "filename_titanic=\"titanic.data\"\n",
    "data_titanic = pd.read_csv(filename_titanic)\n",
    "\n",
    "filename_tic=\"tic-tac-toe.data\"\n",
    "\n",
    "data_tic=pd.read_csv(filename_tic)\n",
    "\n",
    "titanic_classes = []\n",
    "print(\"Titanic atributes\")\n",
    "for c in data_titanic.columns:\n",
    "    titanic_classes.append(c)\n",
    "    print(c, np.unique(data_titanic[c]))\n",
    "\n",
    "tic_classes = []\n",
    "print(\"\\nTic-tac-toe atributes\")\n",
    "for c in data_tic.columns:\n",
    "    tic_classes.append(c)\n",
    "    print(c, np.unique(data_tic[c]))"
   ]
  },
  {
   "cell_type": "code",
   "execution_count": 2,
   "metadata": {},
   "outputs": [],
   "source": [
    "import random\n",
    "import numpy as np\n",
    "import pandas as pd\n",
    "\n",
    "class AlgoritmoGenetico:\n",
    "    def __init__(self,train_set, diccionario, n_ind):\n",
    "        self.train=train_set.copy(deep=True)\n",
    "        self.diccionario=diccionario\n",
    "        self.encoder_length=0\n",
    "        self.class_length=len(self.diccionario[-1].values())\n",
    "        self.population_size=n_ind\n",
    "        for c in self.diccionario:\n",
    "            self.encoder_length+=len(c.values())\n",
    "        self.population=self.generate_population(n_ind)\n",
    "        self.train_encoded=self.encode(train_set)\n",
    "        self.best_fitness_history=[]\n",
    "        self.mean_fitness_history=[]\n",
    "        \n",
    "    def rand_key(self,p):  #Return random 0-1 string of fixed size\n",
    "        key1 = \"\" \n",
    "        for i in range(p): \n",
    "            temp = str(random.randint(0, 1)) \n",
    "            key1 += temp \n",
    "        return(key1) \n",
    "    \n",
    "    def generate_population(self,n): #Generates a new random population of size n\n",
    "        population=[]\n",
    "        for i in range(n):\n",
    "            individual=self.rand_key(self.encoder_length)\n",
    "            population.append(individual)\n",
    "        return(population)\n",
    "    \n",
    "    def encode(self, rows):\n",
    "        train_encoded=[]\n",
    "        for index, row in rows.iterrows():\n",
    "            row_encoded=\"0\"*self.encoder_length\n",
    "            i=0\n",
    "            for idx, at in enumerate(row.values):\n",
    "                block_pos=self.diccionario[idx][at]\n",
    "                row_encoded=row_encoded[:i+block_pos]+\"1\"+row_encoded[i+block_pos+1:]\n",
    "                i=i+len(self.diccionario[idx])\n",
    "            train_encoded.append(row_encoded)\n",
    "        return(train_encoded)\n",
    "    \n",
    "    def encode_classify(self, rows):\n",
    "        train_encoded=[]\n",
    "        for index, row in rows.iterrows():\n",
    "            row_encoded=\"0\"*(self.encoder_length-self.class_length)\n",
    "            i=0\n",
    "            for idx, at in enumerate(row.values):\n",
    "                block_pos=self.diccionario[idx][at]\n",
    "                row_encoded=row_encoded[:i+block_pos]+\"1\"+row_encoded[i+block_pos+1:]\n",
    "                i=i+len(self.diccionario[idx])\n",
    "            train_encoded.append(row_encoded)\n",
    "        return(train_encoded)\n",
    "    \n",
    "    def convert_train_ints(self):  #This converts encoded binary train data set from strings to ints\n",
    "        train_ints=[]\n",
    "        for t in self.train_encoded:\n",
    "            train_ints.append(int(t[:-self.class_length],2))\n",
    "        return(train_ints)\n",
    "    \n",
    "    def count_fitness(self):\n",
    "        #convert train attributes to ints for bitwise operations\n",
    "        train_ints=self.convert_train_ints()\n",
    "        classes_t=[]\n",
    "        fitness=[]\n",
    "        #Filtering classes of the train cromosomes\n",
    "        for t in self.train_encoded:\n",
    "            classes_t.append(t[-self.class_length:])\n",
    "        i=0\n",
    "        for individual in self.population:\n",
    "            individual_rule=individual[:-self.class_length]  #Filter only the part of the conditions\n",
    "            individual_rule_int=int(individual_rule,2) #Converting binary string to int for bitwise operations\n",
    "            induvidual_class=individual[-self.class_length:] #The class of the individual cromosome\n",
    "            rule_counter=0 \n",
    "            rule_classes=[]\n",
    "            for t in range(len(train_ints)): #Comparing the indivudual rules with the train set\n",
    "                apply_mask=individual_rule_int|train_ints[t] #Or operator will return the same value as indivudual if the rule includes the train condition\n",
    "                if apply_mask==individual_rule_int:\n",
    "                    rule_counter+=1 #Counts how many training set rows correspond to the conditions programed in the individual\n",
    "                    rule_classes.append(classes_t[t]) #Stores the real class of the condition\n",
    "            rule_classes=np.array(rule_classes)\n",
    "            assert_class=len(rule_classes[rule_classes==induvidual_class]) #Calculates how many times the idividual predicted the right class\n",
    "            fitness.append((assert_class/(rule_counter+1)+0.3*rule_counter/len(train_ints))/1.3) #Fitness is the number of right classes divided by the number of apperances+1 of the individual's condition in the train dataset\n",
    "            #fitness.append(assert_class/len(train_ints)) #Este fitness va a generar la regla que siempre predice clase con max probabilidad priori\n",
    "            i+=1\n",
    "        return(fitness)\n",
    "      \n",
    "    def choose_parents(self, elite_percent):\n",
    "        fitness=np.array(self.count_fitness())\n",
    "        fitness_sum=np.sum(fitness)\n",
    "        max_fit_id=np.argmax(fitness)\n",
    "        fitness_prop=fitness/fitness_sum\n",
    "        fitness_cdf=np.cumsum(fitness_prop)\n",
    "        elite_num=round(elite_percent*self.population_size)\n",
    "        elite_counter=0\n",
    "        parents=[]\n",
    "        parent_ids=[]\n",
    "        rand_sel=[]\n",
    "        for i in range(self.population_size):\n",
    "            if elite_counter<elite_num:  #Adding the elites without random selection\n",
    "                parents.append(self.population[max_fit_id])\n",
    "                elite_counter+=1\n",
    "            else:\n",
    "                r=np.random.rand() #Adding the rest based on their fitness\n",
    "                rand_sel.append(r)\n",
    "                ind_ids=np.where(fitness_cdf>=r)[0]\n",
    "                parent_ids.append(ind_ids[0])\n",
    "                parents.append(self.population[ind_ids[0]])\n",
    "        return(parents) \n",
    "    \n",
    "    def cross_one_point(self,parent1, parent2):\n",
    "        pos=np.random.randint(0,self.encoder_length)\n",
    "        child1=parent1[:pos]+parent2[pos:]\n",
    "        child2=parent2[:pos]+parent1[pos:]\n",
    "        return(child1, child2)\n",
    "    \n",
    "    def mutate(self, generation, mutation_prob):\n",
    "        mut_n=round(self.population_size*self.encoder_length*mutation_prob) #number of mutations in population\n",
    "        rand_n=np.random.rand(mut_n)\n",
    "        m_pos=rand_n*self.population_size*self.encoder_length #gerenating random positions of mutations\n",
    "        idx,p=divmod(m_pos,self.encoder_length) #determinings individuals and the position in the cromosome\n",
    "        p=np.round(p)\n",
    "        idx=idx.astype(int)\n",
    "        p=p.astype(int)\n",
    "        #print(\"Mutations where done at\", idx, p)\n",
    "        for i in range(mut_n):\n",
    "            if p[i]==self.encoder_length: \n",
    "                p[i]=p[i]-1\n",
    "            ind=generation[idx[i]]\n",
    "            ind_list=list(ind)\n",
    "            #print(ind_list, p[i])\n",
    "            if ind_list[p[i]]==\"1\":\n",
    "                ind_list[p[i]]=\"0\"\n",
    "            else:\n",
    "                ind_list[p[i]]=\"1\"\n",
    "            ind=\"\".join(ind_list)\n",
    "            generation[idx[i]]=ind\n",
    "        return(generation)\n",
    "    \n",
    "    def generate_next_population(self,elite_percent, mutation_prob, mutate):\n",
    "        parents=self.choose_parents(elite_percent)\n",
    "        ft=self.count_fitness()\n",
    "        self.best_fitness_history.append(np.max(ft))\n",
    "        self.mean_fitness_history.append(np.mean(ft))\n",
    "        couples_num=round(self.population_size/2)\n",
    "        next_generation=[]\n",
    "        for i in range(couples_num):\n",
    "            child1,child2=self.cross_one_point(parents[i], parents[i+2])\n",
    "            next_generation.append(child1)\n",
    "            next_generation.append(child2)\n",
    "        #print(\"Next generation before mutation:\", next_generation)\n",
    "        if mutate:\n",
    "            next_generation=self.mutate(next_generation, mutation_prob)\n",
    "        self.population=next_generation\n",
    "        return(next_generation)\n",
    "    \n",
    "    def training(self, iteractions, elite_percent, mutation_prob):\n",
    "        for i in range(iteractions):\n",
    "            if i!=iteractions-1:\n",
    "                generation=self.generate_next_population(elite_percent, mutation_prob, True)\n",
    "            else:\n",
    "            #Avoid mutations in last generation\n",
    "                generation=self.generate_next_population(elite_percent, mutation_prob, False)\n",
    "            #print(\"Generation #\", i+1, generation)\n",
    "        #Return unique rules:\n",
    "        self.probs = self.count_fitness()\n",
    "        id_best=np.argmax(self.probs)\n",
    "        self.rule=self.population[id_best]\n",
    "        self.rules=np.unique(self.population)\n",
    "        return(self.rule)\n",
    "\n",
    "\n",
    "    def classify(self, rows): #Classifies with the rule that has best fitness\n",
    "        rows_encoded=self.encode_classify(rows)\n",
    "        classes_dict=self.diccionario[-1]\n",
    "        classes=[]\n",
    "        for r in rows_encoded:\n",
    "            row_int=int(r,2)\n",
    "            rule_cond=self.rule[:-self.class_length]\n",
    "            rule_class=self.rule[-self.class_length:] \n",
    "            rule_int=int(rule_cond,2)\n",
    "            apply_mask=rule_int|row_int\n",
    "            cl_id=rule_class.find(\"1\")\n",
    "            if apply_mask==rule_int:\n",
    "                class_name=list(classes_dict.keys())[list(classes_dict.values()).index(cl_id)]\n",
    "            else:\n",
    "                if cl_id==0:\n",
    "                    class_name=list(classes_dict.keys())[list(classes_dict.values()).index(1)]\n",
    "                else:\n",
    "                    class_name=list(classes_dict.keys())[list(classes_dict.values()).index(0)]\n",
    "            classes.append(class_name)\n",
    "        return(classes)\n",
    "    def error(self, test):\n",
    "        predicted_class=self.classify(test.iloc[:,:-1])\n",
    "        real_class=test.iloc[:,-1]\n",
    "        i=0\n",
    "        count=0\n",
    "        for c in real_class:\n",
    "            if c==predicted_class[i]:\n",
    "                count+=1\n",
    "            i+=1\n",
    "        err=1-count/test.shape[0]\n",
    "        return(err)\n",
    "    def represent_rule(self, column_names):\n",
    "        i=0\n",
    "        column_i=0\n",
    "        query=\"IF \"\n",
    "        for atts in self.diccionario[:-1]:\n",
    "            l=len(atts)\n",
    "            ch=self.rule[i:i+l]\n",
    "            c_i=0\n",
    "            c_inrule=0\n",
    "            for c in ch:\n",
    "                #print(c)\n",
    "                if c==\"1\":\n",
    "                    if c_inrule!=0:\n",
    "                        query=query+\" OR \"\n",
    "                    att=list(atts.keys())[list(atts.values()).index(c_i)]\n",
    "                    query=query+column_names[column_i]+\"=\"+str(att)\n",
    "                    c_inrule+=1\n",
    "                c_i+=1\n",
    "            if c_inrule>0 and column_i<len(column_names)-1: \n",
    "                query=query+\" AND \"\n",
    "                c_inrule=0\n",
    "            i+=l\n",
    "            column_i+=1\n",
    "        c_cl=self.rule[-self.class_length:]\n",
    "        cl_id=c_cl.find(\"1\")\n",
    "        class_name=list(self.diccionario[-1].keys())[list(self.diccionario[-1].values()).index(cl_id)]\n",
    "        query=query+\" THEN Class=\"+str(class_name)\n",
    "        return(query)\n",
    "        \n",
    "\n",
    "                                "
   ]
  },
  {
   "cell_type": "markdown",
   "metadata": {},
   "source": [
    "## Apartado 2. Resultados de clasificación\n",
    "Probamos primero el conjunto de datos titanic con una población de 150 y un límite de generaciones de 100:"
   ]
  },
  {
   "cell_type": "code",
   "execution_count": 3,
   "metadata": {
    "scrolled": true
   },
   "outputs": [
    {
     "name": "stderr",
     "output_type": "stream",
     "text": [
      "/srv/conda/envs/notebook/lib/python3.6/site-packages/ipykernel_launcher.py:84: FutureWarning: elementwise comparison failed; returning scalar instead, but in the future will perform elementwise comparison\n"
     ]
    },
    {
     "name": "stdout",
     "output_type": "stream",
     "text": [
      "10010001101101011000101\n",
      "IF Pclass=1 AND Sex=female AND Age=2 OR Age=3 OR Age=5 OR Age=6 OR Age=8 OR Age=10 OR Age=11 OR Age=15 THEN Class=1\n",
      "Error 0.334\n"
     ]
    }
   ],
   "source": [
    "from Datos import *\n",
    "dataset_titanic=Datos(filename_titanic)\n",
    "\n",
    "tit_dic=dataset_titanic.diccionario\n",
    "titanic=AlgoritmoGenetico(data_titanic,tit_dic, 150)\n",
    "\n",
    "rule=titanic.training(100,0.05, 0.01)\n",
    "\n",
    "print(rule)\n",
    "column_names=data_titanic.columns.values[:-1]\n",
    "print(titanic.represent_rule(column_names))\n",
    "\n",
    "cl=titanic.classify(data_titanic.iloc[:,:-1])\n",
    "\n",
    "print(\"Error\", np.round(titanic.error(data_titanic),3))\n",
    "\n",
    "import matplotlib.pyplot as plt\n",
    "mean_fitness1=titanic.mean_fitness_history\n",
    "best_fitness1=titanic.best_fitness_history\n",
    "#print(best_fitness)\n",
    "it1=range(len(best_fitness1))"
   ]
  },
  {
   "cell_type": "markdown",
   "metadata": {},
   "source": [
    "Probamos ahora con una población de 50 y 100 épocas:"
   ]
  },
  {
   "cell_type": "code",
   "execution_count": 4,
   "metadata": {},
   "outputs": [
    {
     "name": "stderr",
     "output_type": "stream",
     "text": [
      "/srv/conda/envs/notebook/lib/python3.6/site-packages/ipykernel_launcher.py:84: FutureWarning: elementwise comparison failed; returning scalar instead, but in the future will perform elementwise comparison\n"
     ]
    },
    {
     "name": "stdout",
     "output_type": "stream",
     "text": [
      "01101001111111111111010\n",
      "IF Pclass=2 OR Pclass=3 AND Sex=male AND Age=2 OR Age=3 OR Age=4 OR Age=5 OR Age=6 OR Age=7 OR Age=8 OR Age=9 OR Age=10 OR Age=11 OR Age=12 OR Age=13 OR Age=14 THEN Class=0\n",
      "Error 0.262\n"
     ]
    }
   ],
   "source": [
    "#we try with 50 population instead of 150, 100 epochs\n",
    "titanic=AlgoritmoGenetico(data_titanic,tit_dic, 50)\n",
    "\n",
    "rule=titanic.training(100,0.05, 0.01)\n",
    "\n",
    "print(rule)\n",
    "print(titanic.represent_rule(column_names))\n",
    "\n",
    "cl=titanic.classify(data_titanic.iloc[:,:-1])\n",
    "\n",
    "print(\"Error\", np.round(titanic.error(data_titanic),3))\n",
    "\n",
    "mean_fitness2=titanic.mean_fitness_history\n",
    "best_fitness2=titanic.best_fitness_history\n",
    "#print(best_fitness)\n",
    "it2=range(len(best_fitness2))"
   ]
  },
  {
   "cell_type": "markdown",
   "metadata": {},
   "source": [
    "Volvemos a usar el tamaño de población original de 150, pero con 200 épocas ahora:"
   ]
  },
  {
   "cell_type": "code",
   "execution_count": 5,
   "metadata": {},
   "outputs": [
    {
     "name": "stderr",
     "output_type": "stream",
     "text": [
      "/srv/conda/envs/notebook/lib/python3.6/site-packages/ipykernel_launcher.py:84: FutureWarning: elementwise comparison failed; returning scalar instead, but in the future will perform elementwise comparison\n"
     ]
    },
    {
     "name": "stdout",
     "output_type": "stream",
     "text": [
      "10010011101101011000101\n",
      "IF Pclass=1 AND Sex=female AND Age=1 OR Age=2 OR Age=3 OR Age=5 OR Age=6 OR Age=8 OR Age=10 OR Age=11 OR Age=15 THEN Class=1\n",
      "Error 0.334\n"
     ]
    }
   ],
   "source": [
    "#we try with 200 epochs instead of 100, 150 population\n",
    "titanic=AlgoritmoGenetico(data_titanic,tit_dic, 150)\n",
    "\n",
    "rule=titanic.training(200,0.05, 0.01)\n",
    "\n",
    "print(rule)\n",
    "print(titanic.represent_rule(column_names))\n",
    "\n",
    "cl=titanic.classify(data_titanic.iloc[:,:-1])\n",
    "\n",
    "print(\"Error\", np.round(titanic.error(data_titanic),3))\n",
    "\n",
    "mean_fitness3=titanic.mean_fitness_history\n",
    "best_fitness3=titanic.best_fitness_history\n",
    "#print(best_fitness)\n",
    "it3=range(len(best_fitness3))"
   ]
  },
  {
   "cell_type": "markdown",
   "metadata": {},
   "source": [
    "Por último probamos con una población de 50 y con 200 épocas:"
   ]
  },
  {
   "cell_type": "code",
   "execution_count": 6,
   "metadata": {},
   "outputs": [
    {
     "name": "stderr",
     "output_type": "stream",
     "text": [
      "/srv/conda/envs/notebook/lib/python3.6/site-packages/ipykernel_launcher.py:84: FutureWarning: elementwise comparison failed; returning scalar instead, but in the future will perform elementwise comparison\n"
     ]
    },
    {
     "name": "stdout",
     "output_type": "stream",
     "text": [
      "01101001111111111111010\n",
      "IF Pclass=2 OR Pclass=3 AND Sex=male AND Age=2 OR Age=3 OR Age=4 OR Age=5 OR Age=6 OR Age=7 OR Age=8 OR Age=9 OR Age=10 OR Age=11 OR Age=12 OR Age=13 OR Age=14 THEN Class=0\n",
      "Error 0.262\n"
     ]
    }
   ],
   "source": [
    "#we try with 50 population instead of 150 AND 200 epochs instead of 100\n",
    "titanic=AlgoritmoGenetico(data_titanic,tit_dic, 50)\n",
    "\n",
    "rule=titanic.training(200,0.05, 0.01)\n",
    "\n",
    "print(rule)\n",
    "print(titanic.represent_rule(column_names))\n",
    "\n",
    "cl=titanic.classify(data_titanic.iloc[:,:-1])\n",
    "\n",
    "print(\"Error\", np.round(titanic.error(data_titanic),3))\n",
    "\n",
    "mean_fitness4=titanic.mean_fitness_history\n",
    "best_fitness4=titanic.best_fitness_history\n",
    "#print(best_fitness)\n",
    "it4=range(len(best_fitness4))"
   ]
  },
  {
   "cell_type": "markdown",
   "metadata": {},
   "source": [
    "Se logra el mejor resultado con un tamaño de población de 50 y 100 generaciones.\n",
    "\n",
    "Ahora haremos las pruebas con el conjunto de datos tic-tac-toe, empezando de nuevo por 150 de población y 100 épocas:"
   ]
  },
  {
   "cell_type": "code",
   "execution_count": 7,
   "metadata": {},
   "outputs": [
    {
     "name": "stderr",
     "output_type": "stream",
     "text": [
      "/srv/conda/envs/notebook/lib/python3.6/site-packages/ipykernel_launcher.py:84: FutureWarning: elementwise comparison failed; returning scalar instead, but in the future will perform elementwise comparison\n"
     ]
    },
    {
     "name": "stdout",
     "output_type": "stream",
     "text": [
      "11111110111110111110111111101\n",
      "IF TLeftSq=b OR TLeftSq=o OR TLeftSq=x AND TMidSq=b OR TMidSq=o OR TMidSq=x AND TRightSq=b OR TRightSq=x AND MLeftSq=b OR MLeftSq=o OR MLeftSq=x AND MMidSq=b OR MMidSq=x AND MRightSq=b OR MRightSq=o OR MRightSq=x AND BLeftSq=b OR BLeftSq=x AND BMidSq=b OR BMidSq=o OR BMidSq=x AND BRightSq=b OR BRightSq=o OR BRightSq=x THEN Class=positive\n",
      "Error 0.428\n"
     ]
    }
   ],
   "source": [
    "dataset_tic=Datos(filename_tic)\n",
    "\n",
    "tic_dic=dataset_tic.diccionario\n",
    "tictoc=AlgoritmoGenetico(data_tic,tic_dic, 150)\n",
    "\n",
    "rule=tictoc.training(100,0.05, 0.01)\n",
    "\n",
    "print(rule)\n",
    "column_names_tic=data_tic.columns.values[:-1]\n",
    "print(tictoc.represent_rule(column_names_tic))\n",
    "cl=tictoc.classify(data_tic.iloc[:,:-1])\n",
    "#print(cl)\n",
    "print(\"Error\", np.round(tictoc.error(data_tic),3))\n",
    "\n",
    "mean_fitness5=tictoc.mean_fitness_history\n",
    "best_fitness5=tictoc.best_fitness_history\n",
    "#print(best_fitness)\n",
    "it5=range(len(best_fitness5))"
   ]
  },
  {
   "cell_type": "markdown",
   "metadata": {},
   "source": [
    "Probamos ahora con una población de 50 y 100 épocas:\n",
    "\n"
   ]
  },
  {
   "cell_type": "code",
   "execution_count": 8,
   "metadata": {},
   "outputs": [
    {
     "name": "stderr",
     "output_type": "stream",
     "text": [
      "/srv/conda/envs/notebook/lib/python3.6/site-packages/ipykernel_launcher.py:84: FutureWarning: elementwise comparison failed; returning scalar instead, but in the future will perform elementwise comparison\n"
     ]
    },
    {
     "name": "stdout",
     "output_type": "stream",
     "text": [
      "11111111100100100111111111101\n",
      "IF TLeftSq=b OR TLeftSq=o OR TLeftSq=x AND TMidSq=b OR TMidSq=o OR TMidSq=x AND TRightSq=b OR TRightSq=o OR TRightSq=x AND MLeftSq=x AND MMidSq=x AND MRightSq=x AND BLeftSq=b OR BLeftSq=o OR BLeftSq=x AND BMidSq=b OR BMidSq=o OR BMidSq=x AND BRightSq=b OR BRightSq=o OR BRightSq=x THEN Class=positive\n",
      "Error 0.572\n"
     ]
    }
   ],
   "source": [
    "#we try with 50 population instead of 150, 100 epochs\n",
    "tictoc=AlgoritmoGenetico(data_tic,tic_dic, 50)\n",
    "\n",
    "rule=tictoc.training(100,0.05, 0.01)\n",
    "\n",
    "print(rule)\n",
    "print(tictoc.represent_rule(column_names_tic))\n",
    "\n",
    "cl=tictoc.classify(data_tic.iloc[:,:-1])\n",
    "#print(cl)\n",
    "print(\"Error\", np.round(tictoc.error(data_tic),3))\n",
    "\n",
    "mean_fitness6=tictoc.mean_fitness_history\n",
    "best_fitness6=tictoc.best_fitness_history\n",
    "#print(best_fitness)\n",
    "it6=range(len(best_fitness6))"
   ]
  },
  {
   "cell_type": "markdown",
   "metadata": {},
   "source": [
    "Volvemos a usar el tamaño de población original de 150, pero con 200 épocas ahora:"
   ]
  },
  {
   "cell_type": "code",
   "execution_count": 9,
   "metadata": {},
   "outputs": [
    {
     "name": "stderr",
     "output_type": "stream",
     "text": [
      "/srv/conda/envs/notebook/lib/python3.6/site-packages/ipykernel_launcher.py:84: FutureWarning: elementwise comparison failed; returning scalar instead, but in the future will perform elementwise comparison\n"
     ]
    },
    {
     "name": "stdout",
     "output_type": "stream",
     "text": [
      "10111111111110111111111110101\n",
      "IF TLeftSq=b OR TLeftSq=x AND TMidSq=b OR TMidSq=o OR TMidSq=x AND TRightSq=b OR TRightSq=o OR TRightSq=x AND MLeftSq=b OR MLeftSq=o OR MLeftSq=x AND MMidSq=b OR MMidSq=x AND MRightSq=b OR MRightSq=o OR MRightSq=x AND BLeftSq=b OR BLeftSq=o OR BLeftSq=x AND BMidSq=b OR BMidSq=o OR BMidSq=x AND BRightSq=b OR BRightSq=x THEN Class=positive\n",
      "Error 0.428\n"
     ]
    }
   ],
   "source": [
    "#we try with 200 epochs instead of 100, 150 population\n",
    "tictoc=AlgoritmoGenetico(data_tic,tic_dic, 150)\n",
    "\n",
    "rule=tictoc.training(200,0.05, 0.01)\n",
    "\n",
    "print(rule)\n",
    "print(tictoc.represent_rule(column_names_tic))\n",
    "\n",
    "cl=tictoc.classify(data_tic.iloc[:,:-1])\n",
    "#print(cl)\n",
    "print(\"Error\", np.round(tictoc.error(data_tic), 3))\n",
    "\n",
    "mean_fitness7=tictoc.mean_fitness_history\n",
    "best_fitness7=tictoc.best_fitness_history\n",
    "#print(best_fitness)\n",
    "it7=range(len(best_fitness7))"
   ]
  },
  {
   "cell_type": "markdown",
   "metadata": {},
   "source": [
    "Por último probamos con una población de 50 y con 200 épocas:"
   ]
  },
  {
   "cell_type": "code",
   "execution_count": 10,
   "metadata": {},
   "outputs": [
    {
     "name": "stderr",
     "output_type": "stream",
     "text": [
      "/srv/conda/envs/notebook/lib/python3.6/site-packages/ipykernel_launcher.py:84: FutureWarning: elementwise comparison failed; returning scalar instead, but in the future will perform elementwise comparison\n"
     ]
    },
    {
     "name": "stdout",
     "output_type": "stream",
     "text": [
      "00111111100111111100111111101\n",
      "IF TLeftSq=x AND TMidSq=b OR TMidSq=o OR TMidSq=x AND TRightSq=b OR TRightSq=o OR TRightSq=x AND MLeftSq=x AND MMidSq=b OR MMidSq=o OR MMidSq=x AND MRightSq=b OR MRightSq=o OR MRightSq=x AND BLeftSq=x AND BMidSq=b OR BMidSq=o OR BMidSq=x AND BRightSq=b OR BRightSq=o OR BRightSq=x THEN Class=positive\n",
      "Error 0.572\n"
     ]
    }
   ],
   "source": [
    "#we try with 50 population instead of 150 AND 200 epochs instead of 100\n",
    "tictoc=AlgoritmoGenetico(data_tic,tic_dic, 50)\n",
    "\n",
    "rule=tictoc.training(200,0.05, 0.01)\n",
    "\n",
    "print(rule)\n",
    "print(tictoc.represent_rule(column_names_tic))\n",
    "\n",
    "cl=tictoc.classify(data_tic.iloc[:,:-1])\n",
    "#print(cl)\n",
    "print(\"Error\", np.round(tictoc.error(data_tic), 3))\n",
    "\n",
    "mean_fitness8=tictoc.mean_fitness_history\n",
    "best_fitness8=tictoc.best_fitness_history\n",
    "#print(best_fitness)\n",
    "it8=range(len(best_fitness8))"
   ]
  },
  {
   "cell_type": "markdown",
   "metadata": {},
   "source": [
    "Se logra el mejor resultado con tamaño de población de 150 y 200 generaciones."
   ]
  },
  {
   "cell_type": "markdown",
   "metadata": {},
   "source": [
    "## Apartado 3: análisis de resultados"
   ]
  },
  {
   "cell_type": "markdown",
   "metadata": {},
   "source": [
    "Usando el conjunto de datos del Titanic, observamos que el algoritmo se beneficia de una población reducida. El número de épocas no parece influir demasiado para este conjunto de datos, pero en pruebas sucesivas se puede comprobar que el algoritmo a veces mejora ligeramente con un límite de generaciones grande.\n",
    "\n",
    "Con el conjunto de datos tic-tac-toe, el algoritmo parece haber convergido, o haberse saturado completamente, si los valores son suficientemente altos, ya que excepto la prueba con ambos valores superiores (150 de población, 200 épocas) el error casi se acerca al 50%.\n",
    "\n",
    "Por norma general, un número mayor de reglas se traduce en un rendimiento mayor, ya que mientras las relaciones entre dichas reglas sean óptimas no se provocará un sobreajuste del clasificador.\n",
    "Una tasa de cruce mayor permite a la población converger, es decir, encontrar soluciones más óptimas a la solución anterior utilizando individuos exitosos y juntando sus propiedades. Esto puede parecer algo que siempre resulta beneficioso, pero como hemos dicho antes la tasa de cruce ayuda a mejorar soluciones anteriores. Así, si la solución que nuestro clasificador ha encontrado no es demasiado buena, una tasa de cruce grande evitará que se exploren otras soluciones fundamentalmente diferentes y que podrían ser mucho más prometedoras, enfocándose en mejorar la solución que no es adecuada.\n",
    "Una tasa de mutación mayor suele mejorar clasificadores con fitness bajos, ya que permite explorar otras opciones que pueden ser más óptimas, pero con ello haremos empeorar ciertas poblaciones bien ajustadas, ya que la mutación seguramente sea negativa si el individuo ya era muy exitoso."
   ]
  },
  {
   "cell_type": "markdown",
   "metadata": {},
   "source": [
    "## Apartado 4: evolución del individuo durante entrenamiento"
   ]
  },
  {
   "cell_type": "markdown",
   "metadata": {},
   "source": [
    "Veremos ahora las gráficas que representan el fitness mayor (naranja) de la población y el fitness medio (azul) a lo largo de las épocas en cada caso.\n",
    "\n",
    "Para el conjunto de datos titanic:\n",
    "\n",
    "1er caso -> tamaño de población = 150, límite de épocas = 100"
   ]
  },
  {
   "cell_type": "code",
   "execution_count": 11,
   "metadata": {},
   "outputs": [
    {
     "data": {
      "text/plain": [
       "[<matplotlib.lines.Line2D at 0x7f8a02f136d8>]"
      ]
     },
     "execution_count": 11,
     "metadata": {},
     "output_type": "execute_result"
    },
    {
     "data": {
      "image/png": "[encoded data removed]",
      "text/plain": [
       "<Figure size 432x288 with 1 Axes>"
      ]
     },
     "metadata": {
      "needs_background": "light"
     },
     "output_type": "display_data"
    }
   ],
   "source": [
    "plt.plot(it1, mean_fitness1)\n",
    "plt.plot(it1, best_fitness1)"
   ]
  },
  {
   "cell_type": "markdown",
   "metadata": {},
   "source": [
    "2do caso -> tamaño de población = 50, límite de épocas = 100"
   ]
  },
  {
   "cell_type": "code",
   "execution_count": 12,
   "metadata": {},
   "outputs": [
    {
     "data": {
      "text/plain": [
       "[<matplotlib.lines.Line2D at 0x7f89fa372860>]"
      ]
     },
     "execution_count": 12,
     "metadata": {},
     "output_type": "execute_result"
    },
    {
     "data": {
      "image/png": "[encoded data removed]",
      "text/plain": [
       "<Figure size 432x288 with 1 Axes>"
      ]
     },
     "metadata": {
      "needs_background": "light"
     },
     "output_type": "display_data"
    }
   ],
   "source": [
    "plt.plot(it2, mean_fitness2)\n",
    "plt.plot(it2, best_fitness2)"
   ]
  },
  {
   "cell_type": "markdown",
   "metadata": {},
   "source": [
    "3er caso -> tamaño de población = 150, límite de épocas = 200"
   ]
  },
  {
   "cell_type": "code",
   "execution_count": 13,
   "metadata": {},
   "outputs": [
    {
     "data": {
      "text/plain": [
       "[<matplotlib.lines.Line2D at 0x7f89fa256668>]"
      ]
     },
     "execution_count": 13,
     "metadata": {},
     "output_type": "execute_result"
    },
    {
     "data": {
      "image/png": "[encoded data removed]",
      "text/plain": [
       "<Figure size 432x288 with 1 Axes>"
      ]
     },
     "metadata": {
      "needs_background": "light"
     },
     "output_type": "display_data"
    }
   ],
   "source": [
    "plt.plot(it3, mean_fitness3)\n",
    "plt.plot(it3, best_fitness3)"
   ]
  },
  {
   "cell_type": "markdown",
   "metadata": {},
   "source": [
    "4to caso -> tamaño de población = 50, límite de épocas = 200"
   ]
  },
  {
   "cell_type": "code",
   "execution_count": 14,
   "metadata": {},
   "outputs": [
    {
     "data": {
      "text/plain": [
       "[<matplotlib.lines.Line2D at 0x7f89fa38f748>]"
      ]
     },
     "execution_count": 14,
     "metadata": {},
     "output_type": "execute_result"
    },
    {
     "data": {
      "image/png": "[encoded data removed]",
      "text/plain": [
       "<Figure size 432x288 with 1 Axes>"
      ]
     },
     "metadata": {
      "needs_background": "light"
     },
     "output_type": "display_data"
    }
   ],
   "source": [
    "plt.plot(it4, mean_fitness4)\n",
    "plt.plot(it4, best_fitness4)"
   ]
  },
  {
   "cell_type": "markdown",
   "metadata": {},
   "source": [
    "Para el conjunto de datos tic-tac-toe:\n",
    "\n",
    "1er caso -> tamaño de población = 150, límite de épocas = 100"
   ]
  },
  {
   "cell_type": "code",
   "execution_count": 15,
   "metadata": {},
   "outputs": [
    {
     "data": {
      "text/plain": [
       "[<matplotlib.lines.Line2D at 0x7f89fa1be630>]"
      ]
     },
     "execution_count": 15,
     "metadata": {},
     "output_type": "execute_result"
    },
    {
     "data": {
      "image/png": "[encoded data removed]",
      "text/plain": [
       "<Figure size 432x288 with 1 Axes>"
      ]
     },
     "metadata": {
      "needs_background": "light"
     },
     "output_type": "display_data"
    }
   ],
   "source": [
    "plt.plot(it5, mean_fitness5)\n",
    "plt.plot(it5, best_fitness5)"
   ]
  },
  {
   "cell_type": "markdown",
   "metadata": {},
   "source": [
    "2do caso -> tamaño de población = 50, límite de épocas = 100"
   ]
  },
  {
   "cell_type": "code",
   "execution_count": 16,
   "metadata": {},
   "outputs": [
    {
     "data": {
      "text/plain": [
       "[<matplotlib.lines.Line2D at 0x7f89fa12fb70>]"
      ]
     },
     "execution_count": 16,
     "metadata": {},
     "output_type": "execute_result"
    },
    {
     "data": {
      "image/png": "[encoded data removed]",
      "text/plain": [
       "<Figure size 432x288 with 1 Axes>"
      ]
     },
     "metadata": {
      "needs_background": "light"
     },
     "output_type": "display_data"
    }
   ],
   "source": [
    "plt.plot(it6, mean_fitness6)\n",
    "plt.plot(it6, best_fitness6)"
   ]
  },
  {
   "cell_type": "markdown",
   "metadata": {},
   "source": [
    "3er caso -> tamaño de población = 150, límite de épocas = 200"
   ]
  },
  {
   "cell_type": "code",
   "execution_count": 17,
   "metadata": {},
   "outputs": [
    {
     "data": {
      "text/plain": [
       "[<matplotlib.lines.Line2D at 0x7f89fa09f5f8>]"
      ]
     },
     "execution_count": 17,
     "metadata": {},
     "output_type": "execute_result"
    },
    {
     "data": {
      "image/png": "[encoded data removed]",
      "text/plain": [
       "<Figure size 432x288 with 1 Axes>"
      ]
     },
     "metadata": {
      "needs_background": "light"
     },
     "output_type": "display_data"
    }
   ],
   "source": [
    "plt.plot(it7, mean_fitness7)\n",
    "plt.plot(it7, best_fitness7)"
   ]
  },
  {
   "cell_type": "markdown",
   "metadata": {},
   "source": [
    "4to caso -> tamaño de población = 50, límite de épocas = 200"
   ]
  },
  {
   "cell_type": "code",
   "execution_count": 18,
   "metadata": {},
   "outputs": [
    {
     "data": {
      "text/plain": [
       "[<matplotlib.lines.Line2D at 0x7f89fa08a160>]"
      ]
     },
     "execution_count": 18,
     "metadata": {},
     "output_type": "execute_result"
    },
    {
     "data": {
      "image/png": "[encoded data removed]",
      "text/plain": [
       "<Figure size 432x288 with 1 Axes>"
      ]
     },
     "metadata": {
      "needs_background": "light"
     },
     "output_type": "display_data"
    }
   ],
   "source": [
    "plt.plot(it8, mean_fitness8)\n",
    "plt.plot(it8, best_fitness8)"
   ]
  },
  {
   "cell_type": "markdown",
   "metadata": {},
   "source": [
    "## Apartado 5: curvas ROC\n",
    "\n",
    "Curva de Naive Bayes:"
   ]
  },
  {
   "cell_type": "code",
   "execution_count": 19,
   "metadata": {},
   "outputs": [
    {
     "name": "stdout",
     "output_type": "stream",
     "text": [
      "[0.81850889 0.62039397 0.7881878  0.62402518 0.72821843 0.50245214\n",
      " 0.72776408 0.88062527 0.8601117  0.59176138 0.58014642 0.51762277\n",
      " 0.50566054 0.53942739 0.72420277 0.78271939 0.90564198 0.78008072\n",
      " 0.87352619 0.59609885 0.66517306 0.56972916 0.63326917 0.53550979\n",
      " 0.56869976 0.73646579 0.81499716 0.58743455 0.76532197 0.5098968\n",
      " 0.89381528 0.88038167 0.75908901 0.74974963 0.56674066 0.57432119\n",
      " 0.68460567 0.85443242 0.86189895 0.77437711 0.8806919  0.95583566\n",
      " 0.90481024 0.90885467 0.95718458 0.55335864 0.88219637 0.89844769\n",
      " 0.53186176 0.86162314 0.8943251  0.88032759 0.56221156 0.51937705\n",
      " 0.5306564  0.80424269 0.75353532 0.89963964 0.81013761 0.63432027\n",
      " 0.93225633 0.842154   0.85731484 0.86307188 0.66713897 0.60075881\n",
      " 0.60546135 0.60350343 0.68474255 0.95625126 0.85451125 0.94511677\n",
      " 0.88806854 0.65313578 0.6984828  0.50284281 0.78844858 0.5150944\n",
      " 0.72199803 0.90186379 0.80049564 0.50121452 0.69505383 0.5476556\n",
      " 0.66208844 0.61480115 0.8138391  0.90954249 0.92235338 0.87252232\n",
      " 0.79009342 0.90023006 0.89600166 0.78311571 0.55354565 0.75429466\n",
      " 0.88502185 0.73990199 0.74529813 0.56094015 0.53205016 0.74942657\n",
      " 0.77172527 0.53692261 0.78649667 0.74081954 0.74373616 0.60463363\n",
      " 0.77522863 0.60279874 0.52413808 0.69338081 0.53772985 0.7034644\n",
      " 0.66411876 0.79403136 0.53670135 0.91594243 0.52644604 0.80068578\n",
      " 0.77395404 0.74002398 0.87004291 0.89748986 0.78939495 0.53795162\n",
      " 0.78898658 0.83950834 0.66538714 0.66974692 0.82058339 0.56557996\n",
      " 0.73892486 0.87945597 0.89975635 0.7454997  0.56645079 0.54209099\n",
      " 0.50223787 0.83749275 0.81838153 0.85172311 0.78502557 0.57524192\n",
      " 0.75224817 0.75334548 0.66096767 0.67660659 0.6843851  0.50339703\n",
      " 0.93704014 0.71183994 0.63854261 0.71133618 0.83658831 0.61831771\n",
      " 0.54038707 0.75810657 0.69966668 0.56928878 0.60987725 0.61347326\n",
      " 0.82311635 0.84609606 0.95237938 0.84311238 0.94032095 0.87373835\n",
      " 0.57474357 0.63274039 0.7240799  0.64425717 0.65070084 0.80986526\n",
      " 0.72613773 0.56944422 0.78493165 0.89166914 0.89056894 0.87594255\n",
      " 0.95598041 0.95622788 0.96269819 0.90510561 0.68056368 0.65069465\n",
      " 0.8825528  0.56390661 0.67011924 0.84459151 0.81066528 0.79601931\n",
      " 0.70573168 0.89834513 0.65391339 0.70191378 0.88053331 0.72759079\n",
      " 0.78458289 0.7273633  0.74135907 0.58521664 0.70469991 0.67858083\n",
      " 0.58246937 0.53558894 0.73479482 0.74828706 0.53906324 0.75760074\n",
      " 0.76280939 0.70543383 0.66650777 0.7837809  0.57948452 0.60043742\n",
      " 0.71082502 0.64535036 0.62196001 0.8389997  0.66572657 0.7031338\n",
      " 0.75238669 0.72536183 0.88299233 0.5481799  0.78865987 0.81599747\n",
      " 0.74130262 0.73585184 0.77075191 0.86309596 0.77042398 0.73728816\n",
      " 0.79030351 0.77471024 0.7662443  0.57670083 0.73226185 0.79895472\n",
      " 0.75432179 0.60664955 0.80973776 0.78488963 0.78818802 0.74264787\n",
      " 0.76851459 0.60747058 0.63097083 0.56878126 0.63915886 0.8426962\n",
      " 0.82033454 0.65504056 0.62271881 0.59562225 0.72529055 0.7031552\n",
      " 0.66153159 0.82813983 0.84225386 0.66697209 0.69639266 0.78372026\n",
      " 0.80061605 0.71567122 0.68587826 0.58823161 0.67809425 0.92716205\n",
      " 0.8053924  0.78561849 0.55794484 0.65089208 0.62799248 0.64409197\n",
      " 0.55137788 0.76197581 0.70731014 0.76218747 0.59543396 0.73238795\n",
      " 0.54770946 0.75322669 0.70333213 0.73010793 0.79027252]\n"
     ]
    },
    {
     "name": "stderr",
     "output_type": "stream",
     "text": [
      "/srv/conda/envs/notebook/lib/python3.6/site-packages/sklearn/metrics/_ranking.py:813: UndefinedMetricWarning: No positive samples in y_true, true positive value should be meaningless\n",
      "  UndefinedMetricWarning)\n"
     ]
    },
    {
     "data": {
      "image/png": "[encoded data removed]",
      "text/plain": [
       "<Figure size 432x288 with 1 Axes>"
      ]
     },
     "metadata": {
      "needs_background": "light"
     },
     "output_type": "display_data"
    },
    {
     "name": "stdout",
     "output_type": "stream",
     "text": [
      "AUC, titanic: 0.5\n",
      "AUC, tic-tac-toe: 0.54\n"
     ]
    }
   ],
   "source": [
    "from Datos import *\n",
    "import Clasificador\n",
    "import EstrategiaParticionado\n",
    "from sklearn.metrics import roc_curve, roc_auc_score\n",
    "import matplotlib.pyplot as plt\n",
    "\n",
    "estrategia=EstrategiaParticionado.ValidacionSimple(0.3, 1)\n",
    "dataset_nb=Datos(filename_titanic)\n",
    "cl_nb=Clasificador.ClasificadorNaiveBayes(True)\n",
    "#print(train)\n",
    "#cl_nb.entrenamiento(dataset_nb,dataset_nb.nominalAtributos,dataset_nb.diccionario)\n",
    "dataset_nb1=Datos(filename_tic)\n",
    "cl_nb1=Clasificador.ClasificadorNaiveBayes(True)\n",
    "#cl_nb1.entrenamiento(dataset_nb1,dataset_nb1.nominalAtributos,dataset_nb1.diccionario)\n",
    "\n",
    "class_name=\"Class\"\n",
    "\n",
    "parts = estrategia.creaParticiones(data_titanic)\n",
    "test_row_id=parts[0].indicesTest\n",
    "\n",
    "atributes=['Pclass', 'Sex', 'Age']\n",
    "\n",
    "test=data_titanic.loc[test_row_id,atributes]\n",
    "test_class_list=data_titanic.loc[test_row_id,class_name]\n",
    "\n",
    "\n",
    "parts1 = estrategia.creaParticiones(data_tic)\n",
    "test_row_id1=parts1[0].indicesTest\n",
    "\n",
    "atributes1=['TLeftSq', 'TMidSq', 'TRightSq', 'MLeftSq', 'MMidSq', 'MRightSq', 'BLeftSq', 'BMidSq', 'BRightSq']\n",
    "\n",
    "test1=data_tic.loc[test_row_id1,atributes1]\n",
    "test_class_list1=data_tic.loc[test_row_id1,class_name]\n",
    "\n",
    "def class_prob_nb(model, dataset,test):\n",
    "    pred_class=[]\n",
    "    prob_class=[]\n",
    "    for index, row in test.iterrows():\n",
    "        cl=model.clasifica(row, dataset.nominalAtributos, dataset.diccionario)\n",
    "        p=model.probability()\n",
    "        pred_class.append(cl)\n",
    "        prob_class.append(p)\n",
    "    return np.array([pred_class, prob_class])\n",
    "#cl_nb,p_nb = class_prob_nb(cl_nb, dataset_nb, test)\n",
    "\n",
    "#cl_nb1,p_nb1 = class_prob_nb(cl_nb1, dataset_nb1, test1)\n",
    "\n",
    "cl_nb.validacion(estrategia, dataset_nb, cl_nb)\n",
    "cl,p_nb = np.array([cl_nb.predictions, cl_nb.probability()])\n",
    "cl_nb1.validacion(estrategia, dataset_nb1, cl_nb1)\n",
    "cl1,p_nb1 = np.array([cl_nb1.predictions, cl_nb1.probability()])\n",
    "\n",
    "class2=0\n",
    "ids_clnb=np.where(cl==class2)\n",
    "p_nb[ids_clnb]=1-p_nb[ids_clnb]\n",
    "fpr_nb, tpr_nb, thresholds_nb = roc_curve(test_class_list.values, p_nb, pos_label=1)\n",
    "plt.plot(fpr_nb, tpr_nb, label=\"titanic\")\n",
    "\n",
    "\n",
    "class22='B'\n",
    "p_nb1=p_nb1.astype(np.float)\n",
    "print(p_nb1)\n",
    "idsnb_cl2=np.where(cl1==class22)\n",
    "\n",
    "p_nb1[idsnb_cl2]=1-p_nb1[idsnb_cl2]\n",
    "\n",
    "fpr_nb1, tpr_nb1, thresholds_nb1 = roc_curve(test_class_list1.values, p_nb1, pos_label='M')\n",
    "plt.plot(fpr_nb1, tpr_nb1, label=\"tic-tac-toe\")\n",
    "\n",
    "\n",
    "plt.plot([0, 1], [0, 1], color='darkblue', linestyle='--')\n",
    "plt.xlabel('False Positive Rate')\n",
    "plt.ylabel('True Positive Rate')\n",
    "plt.title('ROC Curve, Naive Bayes')\n",
    "plt.legend()\n",
    "plt.show()\n",
    "auc=roc_auc_score(test_class_list.values, p_nb)\n",
    "auc1=roc_auc_score(test_class_list1.values, p_nb1)\n",
    "print(\"AUC, titanic:\", round(auc,2))\n",
    "print(\"AUC, tic-tac-toe:\", round(auc1,2))"
   ]
  },
  {
   "cell_type": "markdown",
   "metadata": {},
   "source": [
    "Curva del algoritmo genético:"
   ]
  },
  {
   "cell_type": "code",
   "execution_count": 20,
   "metadata": {},
   "outputs": [
    {
     "name": "stdout",
     "output_type": "stream",
     "text": [
      "Matriz de confusión\n",
      "Dataset:  titanic.data\n",
      "[[  0.   0.]\n",
      " [129. 185.]]\n",
      "Dataset:  tic-tac-toe.data\n",
      "[[  0.   0.]\n",
      " [185. 102.]]\n"
     ]
    }
   ],
   "source": [
    "def confusion_mx_ag(model, test, test_classes, positive, negative):\n",
    "    confusion_matrix=np.zeros([2,2])\n",
    "    predicted=model.classify(test)\n",
    "    for index, row in test.iterrows():\n",
    "        real=test_classes.loc[index]\n",
    "        if predicted==positive:\n",
    "            if real==positive:\n",
    "                confusion_matrix[0,0]+=1\n",
    "            else: \n",
    "                confusion_matrix[0,1]+=1\n",
    "        else:\n",
    "            if real==negative:\n",
    "                confusion_matrix[1,1]+=1\n",
    "            else: \n",
    "                confusion_matrix[1,0]+=1\n",
    "\n",
    "    return(confusion_matrix)\n",
    "\n",
    "k=5\n",
    "print(\"Matriz de confusión\")\n",
    "print(\"Dataset: \", filename_titanic)\n",
    "print(confusion_mx_ag(titanic, test, test_class_list, 1, 0))\n",
    "\n",
    "print(\"Dataset: \", filename_tic)\n",
    "print(confusion_mx_ag(tictoc, test1, test_class_list1, \"positive\", \"negative\"))"
   ]
  }
 ],
 "metadata": {
  "kernelspec": {
   "display_name": "Python 3",
   "language": "python",
   "name": "python3"
  },
  "language_info": {
   "codemirror_mode": {
    "name": "ipython",
    "version": 3
   },
   "file_extension": ".py",
   "mimetype": "text/x-python",
   "name": "python",
   "nbconvert_exporter": "python",
   "pygments_lexer": "ipython3",
   "version": "3.6.11"
  }
 },
 "nbformat": 4,
 "nbformat_minor": 2
}
